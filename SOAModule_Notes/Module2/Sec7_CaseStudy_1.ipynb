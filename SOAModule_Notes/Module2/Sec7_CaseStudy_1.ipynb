{
 "cells": [
  {
   "attachments": {},
   "cell_type": "markdown",
   "metadata": {},
   "source": [
    "##### Script to analayze website data for the Case Study 1 of the ATPA modules"
   ]
  },
  {
   "cell_type": "code",
   "execution_count": 2,
   "metadata": {},
   "outputs": [],
   "source": [
    "import numpy as np\n",
    "import pandas as pd\n",
    "import matplotlib.pyplot as plt\n",
    "import scipy\n",
    "import openpyxl\n"
   ]
  },
  {
   "cell_type": "code",
   "execution_count": 89,
   "metadata": {},
   "outputs": [
    {
     "name": "stdout",
     "output_type": "stream",
     "text": [
      "tracking\n"
     ]
    },
    {
     "data": {
      "text/html": [
       "<div>\n",
       "<style scoped>\n",
       "    .dataframe tbody tr th:only-of-type {\n",
       "        vertical-align: middle;\n",
       "    }\n",
       "\n",
       "    .dataframe tbody tr th {\n",
       "        vertical-align: top;\n",
       "    }\n",
       "\n",
       "    .dataframe thead th {\n",
       "        text-align: right;\n",
       "    }\n",
       "</style>\n",
       "<table border=\"1\" class=\"dataframe\">\n",
       "  <thead>\n",
       "    <tr style=\"text-align: right;\">\n",
       "      <th></th>\n",
       "      <th>Day</th>\n",
       "      <th>Duration</th>\n",
       "      <th>Previous</th>\n",
       "      <th>gender</th>\n",
       "    </tr>\n",
       "  </thead>\n",
       "  <tbody>\n",
       "    <tr>\n",
       "      <th>110</th>\n",
       "      <td>2017-03-15</td>\n",
       "      <td>1</td>\n",
       "      <td>0</td>\n",
       "      <td>Female</td>\n",
       "    </tr>\n",
       "    <tr>\n",
       "      <th>141</th>\n",
       "      <td>2017-03-15</td>\n",
       "      <td>3</td>\n",
       "      <td>0</td>\n",
       "      <td>Unlisted</td>\n",
       "    </tr>\n",
       "    <tr>\n",
       "      <th>142</th>\n",
       "      <td>2017-03-15</td>\n",
       "      <td>1</td>\n",
       "      <td>1</td>\n",
       "      <td>Male</td>\n",
       "    </tr>\n",
       "    <tr>\n",
       "      <th>143</th>\n",
       "      <td>2017-03-15</td>\n",
       "      <td>2</td>\n",
       "      <td>1</td>\n",
       "      <td>Male</td>\n",
       "    </tr>\n",
       "    <tr>\n",
       "      <th>144</th>\n",
       "      <td>2017-03-15</td>\n",
       "      <td>6</td>\n",
       "      <td>1</td>\n",
       "      <td>Female</td>\n",
       "    </tr>\n",
       "  </tbody>\n",
       "</table>\n",
       "</div>"
      ],
      "text/plain": [
       "            Day  Duration  Previous    gender\n",
       "110  2017-03-15         1         0    Female\n",
       "141  2017-03-15         3         0  Unlisted\n",
       "142  2017-03-15         1         1      Male\n",
       "143  2017-03-15         2         1      Male\n",
       "144  2017-03-15         6         1    Female"
      ]
     },
     "metadata": {},
     "output_type": "display_data"
    },
    {
     "name": "stdout",
     "output_type": "stream",
     "text": [
      "Shape of the daily DataFrame is (22406, 4)\n",
      "\n",
      " daily\n"
     ]
    },
    {
     "data": {
      "text/html": [
       "<div>\n",
       "<style scoped>\n",
       "    .dataframe tbody tr th:only-of-type {\n",
       "        vertical-align: middle;\n",
       "    }\n",
       "\n",
       "    .dataframe tbody tr th {\n",
       "        vertical-align: top;\n",
       "    }\n",
       "\n",
       "    .dataframe thead th {\n",
       "        text-align: right;\n",
       "    }\n",
       "</style>\n",
       "<table border=\"1\" class=\"dataframe\">\n",
       "  <thead>\n",
       "    <tr style=\"text-align: right;\">\n",
       "      <th></th>\n",
       "      <th>date</th>\n",
       "      <th>news</th>\n",
       "      <th>num_ads</th>\n",
       "      <th>num_links</th>\n",
       "      <th>headliner_topic</th>\n",
       "    </tr>\n",
       "  </thead>\n",
       "  <tbody>\n",
       "    <tr>\n",
       "      <th>0</th>\n",
       "      <td>2017-01-01</td>\n",
       "      <td>1.0</td>\n",
       "      <td>5</td>\n",
       "      <td>3</td>\n",
       "      <td>technology</td>\n",
       "    </tr>\n",
       "    <tr>\n",
       "      <th>1</th>\n",
       "      <td>2017-01-02</td>\n",
       "      <td>1.0</td>\n",
       "      <td>5</td>\n",
       "      <td>1</td>\n",
       "      <td>technology</td>\n",
       "    </tr>\n",
       "    <tr>\n",
       "      <th>2</th>\n",
       "      <td>2017-01-03</td>\n",
       "      <td>1.0</td>\n",
       "      <td>5</td>\n",
       "      <td>4</td>\n",
       "      <td>visualization</td>\n",
       "    </tr>\n",
       "    <tr>\n",
       "      <th>3</th>\n",
       "      <td>2017-01-04</td>\n",
       "      <td>0.0</td>\n",
       "      <td>6</td>\n",
       "      <td>4</td>\n",
       "      <td>machine learning</td>\n",
       "    </tr>\n",
       "    <tr>\n",
       "      <th>4</th>\n",
       "      <td>2017-01-05</td>\n",
       "      <td>0.0</td>\n",
       "      <td>6</td>\n",
       "      <td>4</td>\n",
       "      <td>visualization</td>\n",
       "    </tr>\n",
       "  </tbody>\n",
       "</table>\n",
       "</div>"
      ],
      "text/plain": [
       "        date  news  num_ads  num_links   headliner_topic\n",
       "0 2017-01-01   1.0        5          3        technology\n",
       "1 2017-01-02   1.0        5          1        technology\n",
       "2 2017-01-03   1.0        5          4     visualization\n",
       "3 2017-01-04   0.0        6          4  machine learning\n",
       "4 2017-01-05   0.0        6          4     visualization"
      ]
     },
     "metadata": {},
     "output_type": "display_data"
    },
    {
     "name": "stdout",
     "output_type": "stream",
     "text": [
      "Shape of the daily DataFrame is (365, 5)\n"
     ]
    }
   ],
   "source": [
    "tracking = pd.read_csv(\"Data/tracking.csv\").sort_values(by=['Day'])\n",
    "print('tracking')\n",
    "display(tracking.head())\n",
    "print('Shape of the daily DataFrame is {}'.format(tracking.shape))\n",
    "\n",
    "daily = pd.concat([pd.read_excel(\"Data/site_daily.xlsx\", sheet_name='First Half'), \n",
    "                   pd.read_excel(\"Data/site_daily.xlsx\", sheet_name='Second Half')], \n",
    "                   axis=0)\n",
    "print('\\n daily')\n",
    "display(daily.head())\n",
    "print('Shape of the daily DataFrame is {}'.format(daily.shape))\n",
    "#### Variables:\n",
    "# date - values from Jan 1 - Dec 31, 2017\n",
    "# news - 1, if news story posted; 0, else\n",
    "# num_ads - number of ads posted on the web page\n",
    "# num_links - number of links to articles\n",
    "# headliner_topic - topic of the top article linked\n"
   ]
  },
  {
   "cell_type": "code",
   "execution_count": 90,
   "metadata": {},
   "outputs": [],
   "source": [
    "# General data observance\n",
    "tracking.apply(lambda col: np.sort(col.unique()))\n",
    "\n",
    "daily.apply(lambda col: np.sort(col.unique()))\n",
    "# daily.headliner_topic.unique()\n",
    "daily.headliner_topic = daily.headliner_topic.str.capitalize().replace({'Machine learning': 'ML', 'Ml': 'ML'})"
   ]
  },
  {
   "cell_type": "code",
   "execution_count": 91,
   "metadata": {},
   "outputs": [],
   "source": [
    "# aggregating the tracking data\n",
    "tracking = tracking.groupby(['Day']) \\\n",
    "                    .agg({'Duration':'mean', \n",
    "                          'gender':'count'}) \\\n",
    "                    .rename(columns = {'Duration':'Duration_Mean', \n",
    "                                       'gender':'Num_Visitors'}) \\\n",
    "                    .reset_index()\n",
    "\n",
    "# add day of the week for both data sets\n",
    "# daily['DayOfWeek'] = \n",
    "tracking['DayOfWeek'] = pd.to_datetime(tracking.Day).dt.day_name()\n",
    "\n",
    "daily['DayOfWeek'] = daily.date.dt.day_name()"
   ]
  },
  {
   "cell_type": "code",
   "execution_count": 104,
   "metadata": {},
   "outputs": [
    {
     "data": {
      "text/html": [
       "<div>\n",
       "<style scoped>\n",
       "    .dataframe tbody tr th:only-of-type {\n",
       "        vertical-align: middle;\n",
       "    }\n",
       "\n",
       "    .dataframe tbody tr th {\n",
       "        vertical-align: top;\n",
       "    }\n",
       "\n",
       "    .dataframe thead th {\n",
       "        text-align: right;\n",
       "    }\n",
       "</style>\n",
       "<table border=\"1\" class=\"dataframe\">\n",
       "  <thead>\n",
       "    <tr style=\"text-align: right;\">\n",
       "      <th></th>\n",
       "      <th>date</th>\n",
       "      <th>news</th>\n",
       "      <th>num_ads</th>\n",
       "      <th>num_links</th>\n",
       "      <th>headliner_topic</th>\n",
       "      <th>DayOfWeek</th>\n",
       "    </tr>\n",
       "  </thead>\n",
       "  <tbody>\n",
       "    <tr>\n",
       "      <th>337</th>\n",
       "      <td>2017-12-27</td>\n",
       "      <td>1.0</td>\n",
       "      <td>7</td>\n",
       "      <td>10</td>\n",
       "      <td>Technology</td>\n",
       "      <td>Wednesday</td>\n",
       "    </tr>\n",
       "    <tr>\n",
       "      <th>338</th>\n",
       "      <td>2017-12-28</td>\n",
       "      <td>0.0</td>\n",
       "      <td>8</td>\n",
       "      <td>10</td>\n",
       "      <td>Regression</td>\n",
       "      <td>Thursday</td>\n",
       "    </tr>\n",
       "    <tr>\n",
       "      <th>339</th>\n",
       "      <td>2017-12-29</td>\n",
       "      <td>1.0</td>\n",
       "      <td>8</td>\n",
       "      <td>10</td>\n",
       "      <td>Regression</td>\n",
       "      <td>Friday</td>\n",
       "    </tr>\n",
       "    <tr>\n",
       "      <th>340</th>\n",
       "      <td>2017-12-30</td>\n",
       "      <td>1.0</td>\n",
       "      <td>8</td>\n",
       "      <td>9</td>\n",
       "      <td>Visualization</td>\n",
       "      <td>Saturday</td>\n",
       "    </tr>\n",
       "    <tr>\n",
       "      <th>341</th>\n",
       "      <td>2017-12-31</td>\n",
       "      <td>1.0</td>\n",
       "      <td>7</td>\n",
       "      <td>8</td>\n",
       "      <td>Regression</td>\n",
       "      <td>Sunday</td>\n",
       "    </tr>\n",
       "  </tbody>\n",
       "</table>\n",
       "</div>"
      ],
      "text/plain": [
       "          date  news  num_ads  num_links headliner_topic  DayOfWeek\n",
       "337 2017-12-27   1.0        7         10      Technology  Wednesday\n",
       "338 2017-12-28   0.0        8         10      Regression   Thursday\n",
       "339 2017-12-29   1.0        8         10      Regression     Friday\n",
       "340 2017-12-30   1.0        8          9   Visualization   Saturday\n",
       "341 2017-12-31   1.0        7          8      Regression     Sunday"
      ]
     },
     "execution_count": 104,
     "metadata": {},
     "output_type": "execute_result"
    }
   ],
   "source": [
    "# remove np.nans\n",
    "tracking.apply(lambda col: col.isna().sum())\n",
    "daily.apply(lambda col: col.isna().sum())\n",
    "\n",
    "daily = daily.loc[daily.notna().apply(lambda row: np.prod(row), axis=1).map({1: True, 0: False}),:].reset_index(drop=True)\n"
   ]
  },
  {
   "cell_type": "code",
   "execution_count": 106,
   "metadata": {},
   "outputs": [
    {
     "data": {
      "text/html": [
       "<div>\n",
       "<style scoped>\n",
       "    .dataframe tbody tr th:only-of-type {\n",
       "        vertical-align: middle;\n",
       "    }\n",
       "\n",
       "    .dataframe tbody tr th {\n",
       "        vertical-align: top;\n",
       "    }\n",
       "\n",
       "    .dataframe thead th {\n",
       "        text-align: right;\n",
       "    }\n",
       "</style>\n",
       "<table border=\"1\" class=\"dataframe\">\n",
       "  <thead>\n",
       "    <tr style=\"text-align: right;\">\n",
       "      <th></th>\n",
       "      <th>Day</th>\n",
       "      <th>Duration_Mean</th>\n",
       "      <th>Num_Visitors</th>\n",
       "      <th>DayOfWeek</th>\n",
       "    </tr>\n",
       "  </thead>\n",
       "  <tbody>\n",
       "    <tr>\n",
       "      <th>0</th>\n",
       "      <td>2017-03-15</td>\n",
       "      <td>6.589552</td>\n",
       "      <td>134</td>\n",
       "      <td>Wednesday</td>\n",
       "    </tr>\n",
       "    <tr>\n",
       "      <th>1</th>\n",
       "      <td>2017-03-16</td>\n",
       "      <td>6.755556</td>\n",
       "      <td>90</td>\n",
       "      <td>Thursday</td>\n",
       "    </tr>\n",
       "  </tbody>\n",
       "</table>\n",
       "</div>"
      ],
      "text/plain": [
       "          Day  Duration_Mean  Num_Visitors  DayOfWeek\n",
       "0  2017-03-15       6.589552           134  Wednesday\n",
       "1  2017-03-16       6.755556            90   Thursday"
      ]
     },
     "metadata": {},
     "output_type": "display_data"
    },
    {
     "data": {
      "text/html": [
       "<div>\n",
       "<style scoped>\n",
       "    .dataframe tbody tr th:only-of-type {\n",
       "        vertical-align: middle;\n",
       "    }\n",
       "\n",
       "    .dataframe tbody tr th {\n",
       "        vertical-align: top;\n",
       "    }\n",
       "\n",
       "    .dataframe thead th {\n",
       "        text-align: right;\n",
       "    }\n",
       "</style>\n",
       "<table border=\"1\" class=\"dataframe\">\n",
       "  <thead>\n",
       "    <tr style=\"text-align: right;\">\n",
       "      <th></th>\n",
       "      <th>date</th>\n",
       "      <th>news</th>\n",
       "      <th>num_ads</th>\n",
       "      <th>num_links</th>\n",
       "      <th>headliner_topic</th>\n",
       "      <th>DayOfWeek</th>\n",
       "    </tr>\n",
       "  </thead>\n",
       "  <tbody>\n",
       "    <tr>\n",
       "      <th>0</th>\n",
       "      <td>2017-01-01</td>\n",
       "      <td>1.0</td>\n",
       "      <td>5</td>\n",
       "      <td>3</td>\n",
       "      <td>Technology</td>\n",
       "      <td>Sunday</td>\n",
       "    </tr>\n",
       "    <tr>\n",
       "      <th>1</th>\n",
       "      <td>2017-01-02</td>\n",
       "      <td>1.0</td>\n",
       "      <td>5</td>\n",
       "      <td>1</td>\n",
       "      <td>Technology</td>\n",
       "      <td>Monday</td>\n",
       "    </tr>\n",
       "  </tbody>\n",
       "</table>\n",
       "</div>"
      ],
      "text/plain": [
       "        date  news  num_ads  num_links headliner_topic DayOfWeek\n",
       "0 2017-01-01   1.0        5          3      Technology    Sunday\n",
       "1 2017-01-02   1.0        5          1      Technology    Monday"
      ]
     },
     "metadata": {},
     "output_type": "display_data"
    }
   ],
   "source": [
    "display(tracking.head(2))\n",
    "display(daily.head(2))"
   ]
  },
  {
   "attachments": {},
   "cell_type": "markdown",
   "metadata": {},
   "source": [
    "##### 1. Why is it useful information to know that ABC does not plan on having future observations with 70 advertisements?\n",
    "\n",
    "Removing the observations with 70 ads will be realistic of the future population of ads"
   ]
  },
  {
   "attachments": {},
   "cell_type": "markdown",
   "metadata": {},
   "source": [
    "##### 2. Should the variable for the number of visits on a day be used in the data set? Why or why not?\n",
    "\n",
    "This information is not known at the time of prediction. It would be possible to use the number of visits on the previous day to predict the average time on the website, but today's data will not be known."
   ]
  },
  {
   "attachments": {},
   "cell_type": "markdown",
   "metadata": {},
   "source": [
    "##### 3. The data ABC got from the tracking company includes the sex of the individual who visited the site. ABC is considering including that in the model somehow, or perhaps building separate models for each sex. Comment on any ethical implications for doing that\n",
    "\n",
    "In many instances, it would be unethical to break out models based on sex. It is not ethical to attempt and infer someone's sex, but, if this information was known, it could be useful in modeling."
   ]
  }
 ],
 "metadata": {
  "kernelspec": {
   "display_name": "SOAModule_Notes",
   "language": "python",
   "name": "python3"
  },
  "language_info": {
   "codemirror_mode": {
    "name": "ipython",
    "version": 3
   },
   "file_extension": ".py",
   "mimetype": "text/x-python",
   "name": "python",
   "nbconvert_exporter": "python",
   "pygments_lexer": "ipython3",
   "version": "3.9.6"
  },
  "orig_nbformat": 4,
  "vscode": {
   "interpreter": {
    "hash": "e17914ab529f92bc20a1469aaf6b9ace0664154d3788c29b41b731a15dbe8776"
   }
  }
 },
 "nbformat": 4,
 "nbformat_minor": 2
}

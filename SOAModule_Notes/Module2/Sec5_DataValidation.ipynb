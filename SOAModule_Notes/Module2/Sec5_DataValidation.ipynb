{
 "cells": [
  {
   "attachments": {},
   "cell_type": "markdown",
   "metadata": {},
   "source": [
    "##### ATPA 2.4 - Relational Databases"
   ]
  },
  {
   "cell_type": "code",
   "execution_count": 2,
   "metadata": {},
   "outputs": [
    {
     "data": {
      "text/html": [
       "<div>\n",
       "<style scoped>\n",
       "    .dataframe tbody tr th:only-of-type {\n",
       "        vertical-align: middle;\n",
       "    }\n",
       "\n",
       "    .dataframe tbody tr th {\n",
       "        vertical-align: top;\n",
       "    }\n",
       "\n",
       "    .dataframe thead th {\n",
       "        text-align: right;\n",
       "    }\n",
       "</style>\n",
       "<table border=\"1\" class=\"dataframe\">\n",
       "  <thead>\n",
       "    <tr style=\"text-align: right;\">\n",
       "      <th></th>\n",
       "      <th>Name</th>\n",
       "      <th>Position</th>\n",
       "      <th>Extension</th>\n",
       "      <th>Office</th>\n",
       "    </tr>\n",
       "  </thead>\n",
       "  <tbody>\n",
       "    <tr>\n",
       "      <th>0</th>\n",
       "      <td>Fred Jones</td>\n",
       "      <td>Marketing</td>\n",
       "      <td>7110</td>\n",
       "      <td>B15</td>\n",
       "    </tr>\n",
       "    <tr>\n",
       "      <th>1</th>\n",
       "      <td>Dan Stevens</td>\n",
       "      <td>Development</td>\n",
       "      <td>7189</td>\n",
       "      <td>B19</td>\n",
       "    </tr>\n",
       "    <tr>\n",
       "      <th>2</th>\n",
       "      <td>Fred Jones</td>\n",
       "      <td>Marketing</td>\n",
       "      <td>7110</td>\n",
       "      <td>B15</td>\n",
       "    </tr>\n",
       "    <tr>\n",
       "      <th>3</th>\n",
       "      <td>Tasha Banks</td>\n",
       "      <td>Management</td>\n",
       "      <td>7634</td>\n",
       "      <td>C22</td>\n",
       "    </tr>\n",
       "    <tr>\n",
       "      <th>4</th>\n",
       "      <td>Dan Stevens</td>\n",
       "      <td>Development</td>\n",
       "      <td>7189</td>\n",
       "      <td>C12</td>\n",
       "    </tr>\n",
       "  </tbody>\n",
       "</table>\n",
       "</div>"
      ],
      "text/plain": [
       "          Name     Position  Extension Office\n",
       "0   Fred Jones    Marketing       7110    B15\n",
       "1  Dan Stevens  Development       7189    B19\n",
       "2   Fred Jones    Marketing       7110    B15\n",
       "3  Tasha Banks   Management       7634    C22\n",
       "4  Dan Stevens  Development       7189    C12"
      ]
     },
     "execution_count": 2,
     "metadata": {},
     "output_type": "execute_result"
    }
   ],
   "source": [
    "# Chunk 1: Load directory data\n",
    "import pandas as pd\n",
    "import matplotlib.pyplot as plt\n",
    "directory = pd.read_csv(\"Data/directory.csv\")\n",
    "directory"
   ]
  },
  {
   "cell_type": "code",
   "execution_count": 3,
   "metadata": {},
   "outputs": [
    {
     "data": {
      "text/html": [
       "<div>\n",
       "<style scoped>\n",
       "    .dataframe tbody tr th:only-of-type {\n",
       "        vertical-align: middle;\n",
       "    }\n",
       "\n",
       "    .dataframe tbody tr th {\n",
       "        vertical-align: top;\n",
       "    }\n",
       "\n",
       "    .dataframe thead th {\n",
       "        text-align: right;\n",
       "    }\n",
       "</style>\n",
       "<table border=\"1\" class=\"dataframe\">\n",
       "  <thead>\n",
       "    <tr style=\"text-align: right;\">\n",
       "      <th></th>\n",
       "      <th>Name</th>\n",
       "      <th>Position</th>\n",
       "      <th>Extension</th>\n",
       "      <th>Office</th>\n",
       "    </tr>\n",
       "  </thead>\n",
       "  <tbody>\n",
       "    <tr>\n",
       "      <th>0</th>\n",
       "      <td>Fred Jones</td>\n",
       "      <td>Marketing</td>\n",
       "      <td>7110</td>\n",
       "      <td>B15</td>\n",
       "    </tr>\n",
       "    <tr>\n",
       "      <th>1</th>\n",
       "      <td>Dan Stevens</td>\n",
       "      <td>Development</td>\n",
       "      <td>7189</td>\n",
       "      <td>B19</td>\n",
       "    </tr>\n",
       "    <tr>\n",
       "      <th>3</th>\n",
       "      <td>Tasha Banks</td>\n",
       "      <td>Management</td>\n",
       "      <td>7634</td>\n",
       "      <td>C22</td>\n",
       "    </tr>\n",
       "    <tr>\n",
       "      <th>4</th>\n",
       "      <td>Dan Stevens</td>\n",
       "      <td>Development</td>\n",
       "      <td>7189</td>\n",
       "      <td>C12</td>\n",
       "    </tr>\n",
       "  </tbody>\n",
       "</table>\n",
       "</div>"
      ],
      "text/plain": [
       "          Name     Position  Extension Office\n",
       "0   Fred Jones    Marketing       7110    B15\n",
       "1  Dan Stevens  Development       7189    B19\n",
       "3  Tasha Banks   Management       7634    C22\n",
       "4  Dan Stevens  Development       7189    C12"
      ]
     },
     "execution_count": 3,
     "metadata": {},
     "output_type": "execute_result"
    }
   ],
   "source": [
    "# Chunk 2: Exclude exact duplicate records\n",
    "# Exclude exact duplicate records\n",
    "directory.drop_duplicates()"
   ]
  },
  {
   "cell_type": "code",
   "execution_count": 4,
   "metadata": {},
   "outputs": [
    {
     "data": {
      "text/html": [
       "<div>\n",
       "<style scoped>\n",
       "    .dataframe tbody tr th:only-of-type {\n",
       "        vertical-align: middle;\n",
       "    }\n",
       "\n",
       "    .dataframe tbody tr th {\n",
       "        vertical-align: top;\n",
       "    }\n",
       "\n",
       "    .dataframe thead th {\n",
       "        text-align: right;\n",
       "    }\n",
       "</style>\n",
       "<table border=\"1\" class=\"dataframe\">\n",
       "  <thead>\n",
       "    <tr style=\"text-align: right;\">\n",
       "      <th></th>\n",
       "      <th>Name</th>\n",
       "      <th>Position</th>\n",
       "      <th>Extension</th>\n",
       "      <th>Office</th>\n",
       "    </tr>\n",
       "  </thead>\n",
       "  <tbody>\n",
       "    <tr>\n",
       "      <th>0</th>\n",
       "      <td>Fred Jones</td>\n",
       "      <td>Marketing</td>\n",
       "      <td>7110</td>\n",
       "      <td>B15</td>\n",
       "    </tr>\n",
       "    <tr>\n",
       "      <th>1</th>\n",
       "      <td>Dan Stevens</td>\n",
       "      <td>Development</td>\n",
       "      <td>7189</td>\n",
       "      <td>B19</td>\n",
       "    </tr>\n",
       "    <tr>\n",
       "      <th>3</th>\n",
       "      <td>Tasha Banks</td>\n",
       "      <td>Management</td>\n",
       "      <td>7634</td>\n",
       "      <td>C22</td>\n",
       "    </tr>\n",
       "  </tbody>\n",
       "</table>\n",
       "</div>"
      ],
      "text/plain": [
       "          Name     Position  Extension Office\n",
       "0   Fred Jones    Marketing       7110    B15\n",
       "1  Dan Stevens  Development       7189    B19\n",
       "3  Tasha Banks   Management       7634    C22"
      ]
     },
     "execution_count": 4,
     "metadata": {},
     "output_type": "execute_result"
    }
   ],
   "source": [
    "# Chunk 3: Exclude duplicate of a specific variable\n",
    "# Exclude duplicate of a specific variable\n",
    "directory.drop_duplicates(\"Name\")"
   ]
  },
  {
   "cell_type": "code",
   "execution_count": 5,
   "metadata": {},
   "outputs": [
    {
     "data": {
      "text/html": [
       "<div>\n",
       "<style scoped>\n",
       "    .dataframe tbody tr th:only-of-type {\n",
       "        vertical-align: middle;\n",
       "    }\n",
       "\n",
       "    .dataframe tbody tr th {\n",
       "        vertical-align: top;\n",
       "    }\n",
       "\n",
       "    .dataframe thead th {\n",
       "        text-align: right;\n",
       "    }\n",
       "</style>\n",
       "<table border=\"1\" class=\"dataframe\">\n",
       "  <thead>\n",
       "    <tr style=\"text-align: right;\">\n",
       "      <th></th>\n",
       "      <th>Name</th>\n",
       "      <th>Position</th>\n",
       "      <th>Extension</th>\n",
       "      <th>Office</th>\n",
       "    </tr>\n",
       "  </thead>\n",
       "  <tbody>\n",
       "    <tr>\n",
       "      <th>2</th>\n",
       "      <td>Fred Jones</td>\n",
       "      <td>Marketing</td>\n",
       "      <td>7110</td>\n",
       "      <td>B15</td>\n",
       "    </tr>\n",
       "    <tr>\n",
       "      <th>3</th>\n",
       "      <td>Tasha Banks</td>\n",
       "      <td>Management</td>\n",
       "      <td>7634</td>\n",
       "      <td>C22</td>\n",
       "    </tr>\n",
       "    <tr>\n",
       "      <th>4</th>\n",
       "      <td>Dan Stevens</td>\n",
       "      <td>Development</td>\n",
       "      <td>7189</td>\n",
       "      <td>C12</td>\n",
       "    </tr>\n",
       "  </tbody>\n",
       "</table>\n",
       "</div>"
      ],
      "text/plain": [
       "          Name     Position  Extension Office\n",
       "2   Fred Jones    Marketing       7110    B15\n",
       "3  Tasha Banks   Management       7634    C22\n",
       "4  Dan Stevens  Development       7189    C12"
      ]
     },
     "execution_count": 5,
     "metadata": {},
     "output_type": "execute_result"
    }
   ],
   "source": [
    "# Chunk 4: Exclude duplicates, keeping the closest to end\n",
    "# Exclude duplicates, keeping the closest to end\n",
    "directory.drop_duplicates(\"Name\",keep=\"last\")"
   ]
  },
  {
   "cell_type": "code",
   "execution_count": 6,
   "metadata": {},
   "outputs": [
    {
     "data": {
      "text/html": [
       "<div>\n",
       "<style scoped>\n",
       "    .dataframe tbody tr th:only-of-type {\n",
       "        vertical-align: middle;\n",
       "    }\n",
       "\n",
       "    .dataframe tbody tr th {\n",
       "        vertical-align: top;\n",
       "    }\n",
       "\n",
       "    .dataframe thead th {\n",
       "        text-align: right;\n",
       "    }\n",
       "</style>\n",
       "<table border=\"1\" class=\"dataframe\">\n",
       "  <thead>\n",
       "    <tr style=\"text-align: right;\">\n",
       "      <th></th>\n",
       "      <th>Var1</th>\n",
       "      <th>Var2</th>\n",
       "    </tr>\n",
       "  </thead>\n",
       "  <tbody>\n",
       "    <tr>\n",
       "      <th>0</th>\n",
       "      <td>1</td>\n",
       "      <td>4</td>\n",
       "    </tr>\n",
       "    <tr>\n",
       "      <th>1</th>\n",
       "      <td>2</td>\n",
       "      <td>5</td>\n",
       "    </tr>\n",
       "    <tr>\n",
       "      <th>2</th>\n",
       "      <td>3</td>\n",
       "      <td>6</td>\n",
       "    </tr>\n",
       "  </tbody>\n",
       "</table>\n",
       "</div>"
      ],
      "text/plain": [
       "   Var1  Var2\n",
       "0     1     4\n",
       "1     2     5\n",
       "2     3     6"
      ]
     },
     "execution_count": 6,
     "metadata": {},
     "output_type": "execute_result"
    }
   ],
   "source": [
    "# Chunk 5:Exclude duplicate columns\n",
    "# Exclude duplicate columns\n",
    "var_data = pd.DataFrame({\"Var1\":[1,2,3],\"Var2\":[4,5,6],\"Var3\":[1,2,3]})\n",
    "var_data.T.drop_duplicates().T"
   ]
  },
  {
   "cell_type": "code",
   "execution_count": 8,
   "metadata": {},
   "outputs": [
    {
     "data": {
      "text/plain": [
       "count    336776.000000\n",
       "mean       1344.254840\n",
       "std         467.335756\n",
       "min         106.000000\n",
       "25%         906.000000\n",
       "50%        1359.000000\n",
       "75%        1729.000000\n",
       "max        2359.000000\n",
       "Name: sched_dep_time, dtype: float64"
      ]
     },
     "execution_count": 8,
     "metadata": {},
     "output_type": "execute_result"
    }
   ],
   "source": [
    "# Chunk 6: Exercise 2.5.1\n",
    "flights = pd.read_csv(\"Data/flights.csv\")\n",
    "flights.sched_dep_time.describe()"
   ]
  },
  {
   "cell_type": "code",
   "execution_count": 16,
   "metadata": {},
   "outputs": [
    {
     "name": "stdout",
     "output_type": "stream",
     "text": [
      "336776\n"
     ]
    },
    {
     "data": {
      "text/plain": [
       "0    515\n",
       "1    529\n",
       "2    540\n",
       "3    545\n",
       "4    600\n",
       "5    558\n",
       "6    600\n",
       "7    600\n",
       "8    600\n",
       "9    600\n",
       "Name: sched_dep_time, dtype: int64"
      ]
     },
     "execution_count": 16,
     "metadata": {},
     "output_type": "execute_result"
    },
    {
     "data": {
      "image/png": "[encoded data removed]",
      "text/plain": [
       "<Figure size 640x480 with 1 Axes>"
      ]
     },
     "metadata": {},
     "output_type": "display_data"
    }
   ],
   "source": [
    "print(flights.shape[0])\n",
    "plt.hist(flights.sched_dep_time, bins = 50);\n",
    "\n",
    "flights.sched_dep_time[:10]"
   ]
  },
  {
   "cell_type": "code",
   "execution_count": 33,
   "metadata": {},
   "outputs": [
    {
     "data": {
      "text/html": [
       "<div>\n",
       "<style scoped>\n",
       "    .dataframe tbody tr th:only-of-type {\n",
       "        vertical-align: middle;\n",
       "    }\n",
       "\n",
       "    .dataframe tbody tr th {\n",
       "        vertical-align: top;\n",
       "    }\n",
       "\n",
       "    .dataframe thead th {\n",
       "        text-align: right;\n",
       "    }\n",
       "</style>\n",
       "<table border=\"1\" class=\"dataframe\">\n",
       "  <thead>\n",
       "    <tr style=\"text-align: right;\">\n",
       "      <th></th>\n",
       "      <th>YearStart</th>\n",
       "      <th>YearEnd</th>\n",
       "      <th>LocationAbbr</th>\n",
       "      <th>LocationDesc</th>\n",
       "      <th>Datasource</th>\n",
       "      <th>Class</th>\n",
       "      <th>Topic</th>\n",
       "      <th>Question</th>\n",
       "      <th>Data_Value_Unit</th>\n",
       "      <th>Data_Value_Type</th>\n",
       "      <th>Data_Value</th>\n",
       "      <th>Data_Value_Alt</th>\n",
       "      <th>Data_Value_Footnote_Symbol</th>\n",
       "      <th>Data_Value_Footnote</th>\n",
       "      <th>Low_Confidence_Limit</th>\n",
       "      <th>High_Confidence_Limit</th>\n",
       "      <th>Sample_Size</th>\n",
       "      <th>Total</th>\n",
       "      <th>Gender</th>\n",
       "      <th>Grade</th>\n",
       "      <th>Race/Ethnicity</th>\n",
       "      <th>GeoLocation</th>\n",
       "      <th>ClassID</th>\n",
       "      <th>TopicID</th>\n",
       "      <th>QuestionID</th>\n",
       "      <th>DataValueTypeID</th>\n",
       "      <th>LocationID</th>\n",
       "      <th>StratificationCategory1</th>\n",
       "      <th>Stratification1</th>\n",
       "      <th>StratificationCategoryId1</th>\n",
       "      <th>StratificationID1</th>\n",
       "    </tr>\n",
       "  </thead>\n",
       "  <tbody>\n",
       "    <tr>\n",
       "      <th>0</th>\n",
       "      <td>2019</td>\n",
       "      <td>2019</td>\n",
       "      <td>AL</td>\n",
       "      <td>Alabama</td>\n",
       "      <td>Youth Risk Behavior Surveillance System</td>\n",
       "      <td>Sugar Drinks</td>\n",
       "      <td>Sugar Drinks - Behavior</td>\n",
       "      <td>Percent of students in grades 9-12 who drank r...</td>\n",
       "      <td>NaN</td>\n",
       "      <td>Value</td>\n",
       "      <td>30.8</td>\n",
       "      <td>30.8</td>\n",
       "      <td>NaN</td>\n",
       "      <td>NaN</td>\n",
       "      <td>21.7</td>\n",
       "      <td>41.8</td>\n",
       "      <td>145.0</td>\n",
       "      <td>NaN</td>\n",
       "      <td>NaN</td>\n",
       "      <td>NaN</td>\n",
       "      <td>Hispanic</td>\n",
       "      <td>(32.840571122, -86.631860762)</td>\n",
       "      <td>SD</td>\n",
       "      <td>SD1</td>\n",
       "      <td>Q058</td>\n",
       "      <td>VALUE</td>\n",
       "      <td>1</td>\n",
       "      <td>Race/Ethnicity</td>\n",
       "      <td>Hispanic</td>\n",
       "      <td>RACE</td>\n",
       "      <td>RACEHIS</td>\n",
       "    </tr>\n",
       "    <tr>\n",
       "      <th>1</th>\n",
       "      <td>2019</td>\n",
       "      <td>2019</td>\n",
       "      <td>ID</td>\n",
       "      <td>Idaho</td>\n",
       "      <td>Youth Risk Behavior Surveillance System</td>\n",
       "      <td>Sugar Drinks</td>\n",
       "      <td>Sugar Drinks - Behavior</td>\n",
       "      <td>Percent of students in grades 9-12 who drank r...</td>\n",
       "      <td>NaN</td>\n",
       "      <td>Value</td>\n",
       "      <td>13.0</td>\n",
       "      <td>13.0</td>\n",
       "      <td>NaN</td>\n",
       "      <td>NaN</td>\n",
       "      <td>9.0</td>\n",
       "      <td>18.4</td>\n",
       "      <td>240.0</td>\n",
       "      <td>NaN</td>\n",
       "      <td>NaN</td>\n",
       "      <td>NaN</td>\n",
       "      <td>Hispanic</td>\n",
       "      <td>(43.682630005, -114.363730042)</td>\n",
       "      <td>SD</td>\n",
       "      <td>SD1</td>\n",
       "      <td>Q058</td>\n",
       "      <td>VALUE</td>\n",
       "      <td>16</td>\n",
       "      <td>Race/Ethnicity</td>\n",
       "      <td>Hispanic</td>\n",
       "      <td>RACE</td>\n",
       "      <td>RACEHIS</td>\n",
       "    </tr>\n",
       "  </tbody>\n",
       "</table>\n",
       "</div>"
      ],
      "text/plain": [
       "   YearStart  YearEnd LocationAbbr LocationDesc  \\\n",
       "0       2019     2019           AL      Alabama   \n",
       "1       2019     2019           ID        Idaho   \n",
       "\n",
       "                                Datasource         Class  \\\n",
       "0  Youth Risk Behavior Surveillance System  Sugar Drinks   \n",
       "1  Youth Risk Behavior Surveillance System  Sugar Drinks   \n",
       "\n",
       "                     Topic                                           Question  \\\n",
       "0  Sugar Drinks - Behavior  Percent of students in grades 9-12 who drank r...   \n",
       "1  Sugar Drinks - Behavior  Percent of students in grades 9-12 who drank r...   \n",
       "\n",
       "   Data_Value_Unit Data_Value_Type  Data_Value  Data_Value_Alt  \\\n",
       "0              NaN           Value        30.8            30.8   \n",
       "1              NaN           Value        13.0            13.0   \n",
       "\n",
       "  Data_Value_Footnote_Symbol Data_Value_Footnote  Low_Confidence_Limit  \\\n",
       "0                        NaN                 NaN                  21.7   \n",
       "1                        NaN                 NaN                   9.0   \n",
       "\n",
       "   High_Confidence_Limit   Sample_Size Total Gender Grade Race/Ethnicity  \\\n",
       "0                    41.8        145.0   NaN    NaN   NaN       Hispanic   \n",
       "1                    18.4        240.0   NaN    NaN   NaN       Hispanic   \n",
       "\n",
       "                      GeoLocation ClassID TopicID QuestionID DataValueTypeID  \\\n",
       "0   (32.840571122, -86.631860762)      SD     SD1       Q058           VALUE   \n",
       "1  (43.682630005, -114.363730042)      SD     SD1       Q058           VALUE   \n",
       "\n",
       "   LocationID StratificationCategory1 Stratification1  \\\n",
       "0           1          Race/Ethnicity        Hispanic   \n",
       "1          16          Race/Ethnicity        Hispanic   \n",
       "\n",
       "  StratificationCategoryId1 StratificationID1  \n",
       "0                      RACE           RACEHIS  \n",
       "1                      RACE           RACEHIS  "
      ]
     },
     "execution_count": 33,
     "metadata": {},
     "output_type": "execute_result"
    }
   ],
   "source": [
    "pd.set_option('display.max_columns', None)\n",
    "youth_risk.head(2)"
   ]
  },
  {
   "cell_type": "code",
   "execution_count": 4,
   "metadata": {},
   "outputs": [
    {
     "data": {
      "text/plain": [
       "0.7346867517956903"
      ]
     },
     "execution_count": 4,
     "metadata": {},
     "output_type": "execute_result"
    }
   ],
   "source": [
    "# Chunk 7: Exercise 2.5.2\n",
    "youth_risk = pd.read_csv(\"Data/youth_risk.csv\")\n",
    "\n",
    "# # 1. Check for duplicate columns that repeat the same values or the same information.\n",
    "# print(\"There are {} rows and {} columns in the youth_risk original data\".format(youth_risk.shape[0], youth_risk.shape[1]))\n",
    "y_r2 = youth_risk.T.drop_duplicates().T\n",
    "# print(\"There are {} rows and {} columns in the y_r2 data\".format(y_r2.shape[0], y_r2.shape[1]))\n",
    "\n",
    "# # 2. Check for duplicate rows.\n",
    "# print(\"There are {} rows and {} columns in the youth_risk original data\".format(y_r2.shape[0], y_r2.shape[1]))\n",
    "y_r3 = y_r2.drop_duplicates()\n",
    "# print(\"There are {} rows and {} columns in the y_r3 data\".format(y_r3.shape[0], y_r3.shape[1]))\n",
    "\n",
    "# 3. The percentage values are recorded as the variable Data_Value. Check that all those values are in the proper domain.\n",
    "y_r3.Data_Value.describe()\n",
    "((y_r3.Data_Value >= 0.) & (y_r3.Data_Value <= 100.)).mean()\n",
    "\n",
    "y_r3.Data_Value.dropna()\n",
    "y_r3.Data_Value.max()\n",
    "\n",
    "# 4. Check that the Data_Value falls within the interval of Low_Confidence_Interval to High_Confidence_Interval\n",
    "((y_r3.Low_Confidence_Limit < y_r3.Data_Value) & (y_r3.loc[:,\"High_Confidence_Limit \"] > y_r3.Data_Value)).mean() # all just from NaNs\n",
    "\n",
    "# 5. The Data_Value for individual strata should be correlated with the Data_Value for the total sample within each state. \n",
    "    # Find the correlation between the Total Data_Value and the 11th Grade Strata by state. To do this, filter by Stratification1 \n",
    "    # being equal to “Total” and then “11th”. Group by state and find the mean. Plot the relationship by state. Does it seem to be internally consistent\n",
    "y_r3.query(\"Stratification1 == 'Total' and Grade == '11th'\").groupby('State').mean()"
   ]
  },
  {
   "cell_type": "code",
   "execution_count": 31,
   "metadata": {},
   "outputs": [
    {
     "data": {
      "text/plain": [
       "Text(0.5, 1.0, 'Data_Value Means by Grade and Total')"
      ]
     },
     "execution_count": 31,
     "metadata": {},
     "output_type": "execute_result"
    },
    {
     "data": {
      "image/png": "[encoded data removed]",
      "text/plain": [
       "<Figure size 640x480 with 1 Axes>"
      ]
     },
     "metadata": {},
     "output_type": "display_data"
    }
   ],
   "source": [
    "grade_mean = y_r3.query(\"Stratification1 == '11th'\").groupby(\"LocationAbbr\").agg({'Data_Value':'mean'})\n",
    "total_mean = y_r3.query(\"Stratification1 == 'Total'\").groupby(\"LocationAbbr\").agg({'Data_Value':'mean'})\n",
    "merge_mean = grade_mean.merge(total_mean, how=\"outer\", on=\"LocationAbbr\")\n",
    "merge_mean.columns = ['Grade', 'Total']\n",
    "plt.plot(merge_mean.Grade, merge_mean.Total, \"o\", c=\"black\")\n",
    "plt.xlabel('By Grade')\n",
    "plt.ylabel('Total')\n",
    "plt.title(\"Data_Value Means by Grade and Total\")"
   ]
  },
  {
   "cell_type": "code",
   "execution_count": null,
   "metadata": {},
   "outputs": [],
   "source": [
    "# Chunk 8: Exercise 2.5.2: Solution\n",
    "youth_risk = pd.read_csv(\"Data/youth_risk.csv\")\n",
    "\n",
    "# 1. Check for duplicate columns that repeat the same values or the same information.\n",
    "youth_risk.shape[1]\n",
    "youth_risk.T.drop_duplicates().T.shape[1]\n",
    "# Two columns were duplicated\n",
    "\n",
    "# 2. Check for duplicate rows.\n",
    "youth_risk.shape[0]\n",
    "youth_risk.drop_duplicates().shape[0]\n",
    "# No exact duplicate rows\n",
    "\n",
    "# 3. The percentage values are recorded as the variable Data_Value. Check that all those values are in the proper domain.\n",
    "youth_risk.Data_Value.max() <= 100\n",
    "youth_risk.Data_Value.min() >= 0\n",
    "# All values are in the appropriate range\n",
    "\n",
    "# 4. Check that the Data_Value falls within the interval of Low_Confidence_Interval to High_Confidence_Interval\n",
    "\n",
    "youth_vals = youth_risk[[\"Data_Value\",\"Low_Confidence_Limit\",\"High_Confidence_Limit \"]].dropna()\n",
    "all(youth_vals.Data_Value >= youth_vals.Low_Confidence_Limit)\n",
    "all(youth_vals.Data_Value <= youth_vals[\"High_Confidence_Limit \"])\n",
    "# All values make sense\n",
    "\n",
    "# 5. The Data_Value for individual strata should be correlated with the Data_Value for the total sample within each state. Find the correlation\n",
    "# between the Total Data_Value and the 11th Grade Strata by state. To do this, filter by Stratification1 being equal to “Total” and then “11th”.\n",
    "# Group by state and find the mean. Plot the relationship by state. Does it seem to be internally consistent\n",
    "\n",
    "import matplotlib.pyplot as plt\n",
    "total = youth_risk.query(\"Stratification1 == 'Total'\").groupby(\"LocationAbbr\").agg({\"Data_Value\":\"mean\"})\n",
    "Grade11 = youth_risk.query(\"Stratification1 == '11th'\").groupby(\"LocationAbbr\").agg({\"Data_Value\":\"mean\"})\n",
    "plotdat = Grade11.merge(total,on=\"LocationAbbr\",how=\"left\")\n",
    "plotdat.columns = [\"Grade11\",\"Total\"]\n",
    "plt.plot(plotdat[\"Grade11\"],plotdat[\"Total\"],\"o\",color=\"black\")\n",
    "plt.xlabel(\"11th Grade Health Scores\")\n",
    "plt.ylabel(\"Total Health Scores\")\n",
    "plt.show()\n",
    "# The correlation is very close to 1 and the plot shows a very strong relationship. This suggests that the variables are consistent with respect to each other.\n",
    "\n"
   ]
  }
 ],
 "metadata": {
  "kernelspec": {
   "display_name": "SOAModule_Notes",
   "language": "python",
   "name": "python3"
  },
  "language_info": {
   "codemirror_mode": {
    "name": "ipython",
    "version": 3
   },
   "file_extension": ".py",
   "mimetype": "text/x-python",
   "name": "python",
   "nbconvert_exporter": "python",
   "pygments_lexer": "ipython3",
   "version": "3.9.6"
  },
  "orig_nbformat": 4,
  "vscode": {
   "interpreter": {
    "hash": "e17914ab529f92bc20a1469aaf6b9ace0664154d3788c29b41b731a15dbe8776"
   }
  }
 },
 "nbformat": 4,
 "nbformat_minor": 2
}

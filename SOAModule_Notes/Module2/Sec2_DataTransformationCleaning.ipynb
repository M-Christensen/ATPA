{
 "cells": [
  {
   "attachments": {},
   "cell_type": "markdown",
   "metadata": {},
   "source": [
    "##### ATPA 2.3 - Data Transformation and Cleaning"
   ]
  },
  {
   "cell_type": "code",
   "execution_count": 1,
   "metadata": {},
   "outputs": [
    {
     "data": {
      "text/html": [
       "<div>\n",
       "<style scoped>\n",
       "    .dataframe tbody tr th:only-of-type {\n",
       "        vertical-align: middle;\n",
       "    }\n",
       "\n",
       "    .dataframe tbody tr th {\n",
       "        vertical-align: top;\n",
       "    }\n",
       "\n",
       "    .dataframe thead th {\n",
       "        text-align: right;\n",
       "    }\n",
       "</style>\n",
       "<table border=\"1\" class=\"dataframe\">\n",
       "  <thead>\n",
       "    <tr style=\"text-align: right;\">\n",
       "      <th></th>\n",
       "      <th>Phase</th>\n",
       "      <th>Count</th>\n",
       "      <th>Successes</th>\n",
       "      <th>Location</th>\n",
       "    </tr>\n",
       "  </thead>\n",
       "  <tbody>\n",
       "    <tr>\n",
       "      <th>0</th>\n",
       "      <td>A</td>\n",
       "      <td>50</td>\n",
       "      <td>20</td>\n",
       "      <td>Austin Texas</td>\n",
       "    </tr>\n",
       "    <tr>\n",
       "      <th>1</th>\n",
       "      <td>A</td>\n",
       "      <td>40</td>\n",
       "      <td>17</td>\n",
       "      <td>Nashville Tennessee</td>\n",
       "    </tr>\n",
       "    <tr>\n",
       "      <th>2</th>\n",
       "      <td>A</td>\n",
       "      <td>65</td>\n",
       "      <td>31</td>\n",
       "      <td>Nashville Tennessee</td>\n",
       "    </tr>\n",
       "    <tr>\n",
       "      <th>3</th>\n",
       "      <td>B</td>\n",
       "      <td>70</td>\n",
       "      <td>40</td>\n",
       "      <td>Dallas Texas</td>\n",
       "    </tr>\n",
       "    <tr>\n",
       "      <th>4</th>\n",
       "      <td>B</td>\n",
       "      <td>70</td>\n",
       "      <td>33</td>\n",
       "      <td>Seattle Washington</td>\n",
       "    </tr>\n",
       "    <tr>\n",
       "      <th>5</th>\n",
       "      <td>B</td>\n",
       "      <td>90</td>\n",
       "      <td>41</td>\n",
       "      <td>Houston Texas</td>\n",
       "    </tr>\n",
       "    <tr>\n",
       "      <th>6</th>\n",
       "      <td>C</td>\n",
       "      <td>30</td>\n",
       "      <td>12</td>\n",
       "      <td>Orlando Florida</td>\n",
       "    </tr>\n",
       "    <tr>\n",
       "      <th>7</th>\n",
       "      <td>C</td>\n",
       "      <td>20</td>\n",
       "      <td>9</td>\n",
       "      <td>Cincinnati Ohio</td>\n",
       "    </tr>\n",
       "    <tr>\n",
       "      <th>8</th>\n",
       "      <td>C</td>\n",
       "      <td>25</td>\n",
       "      <td>9</td>\n",
       "      <td>El Paso Texas</td>\n",
       "    </tr>\n",
       "  </tbody>\n",
       "</table>\n",
       "</div>"
      ],
      "text/plain": [
       "  Phase  Count  Successes             Location\n",
       "0     A     50         20         Austin Texas\n",
       "1     A     40         17  Nashville Tennessee\n",
       "2     A     65         31  Nashville Tennessee\n",
       "3     B     70         40         Dallas Texas\n",
       "4     B     70         33   Seattle Washington\n",
       "5     B     90         41        Houston Texas\n",
       "6     C     30         12      Orlando Florida\n",
       "7     C     20          9      Cincinnati Ohio\n",
       "8     C     25          9        El Paso Texas"
      ]
     },
     "execution_count": 1,
     "metadata": {},
     "output_type": "execute_result"
    }
   ],
   "source": [
    "# CHUNK 1: Create the data frame\n",
    "\n",
    "import pandas as pd\n",
    "\n",
    "trials = pd.DataFrame({\"Phase\":[\"A\",\"A\",\"A\",\"B\",\"B\",\"B\",\"C\",\"C\",\"C\"],\n",
    "                        \"Count\":[50,40,65,70,70,90,30,20,25],\n",
    "                        \"Successes\":[20,17,31,40,33,41,12,9,9],\n",
    "                        \"Location\":[\"Austin Texas\",\"Nashville Tennessee\",\"Nashville Tennessee\",\"Dallas Texas\",\"Seattle Washington\",\"Houston Texas\",\"Orlando Florida\",\"Cincinnati Ohio\",\"El Paso Texas\"]})\n",
    "trials"
   ]
  },
  {
   "cell_type": "code",
   "execution_count": 10,
   "metadata": {},
   "outputs": [
    {
     "data": {
      "text/html": [
       "<div>\n",
       "<style scoped>\n",
       "    .dataframe tbody tr th:only-of-type {\n",
       "        vertical-align: middle;\n",
       "    }\n",
       "\n",
       "    .dataframe tbody tr th {\n",
       "        vertical-align: top;\n",
       "    }\n",
       "\n",
       "    .dataframe thead th {\n",
       "        text-align: right;\n",
       "    }\n",
       "</style>\n",
       "<table border=\"1\" class=\"dataframe\">\n",
       "  <thead>\n",
       "    <tr style=\"text-align: right;\">\n",
       "      <th></th>\n",
       "      <th>Phase</th>\n",
       "      <th>Count</th>\n",
       "      <th>Successes</th>\n",
       "      <th>Location</th>\n",
       "    </tr>\n",
       "  </thead>\n",
       "  <tbody>\n",
       "    <tr>\n",
       "      <th>0</th>\n",
       "      <td>A</td>\n",
       "      <td>50</td>\n",
       "      <td>20</td>\n",
       "      <td>Austin Texas</td>\n",
       "    </tr>\n",
       "    <tr>\n",
       "      <th>2</th>\n",
       "      <td>A</td>\n",
       "      <td>65</td>\n",
       "      <td>31</td>\n",
       "      <td>Nashville Tennessee</td>\n",
       "    </tr>\n",
       "  </tbody>\n",
       "</table>\n",
       "</div>"
      ],
      "text/plain": [
       "  Phase  Count  Successes             Location\n",
       "0     A     50         20         Austin Texas\n",
       "2     A     65         31  Nashville Tennessee"
      ]
     },
     "metadata": {},
     "output_type": "display_data"
    },
    {
     "data": {
      "text/html": [
       "<div>\n",
       "<style scoped>\n",
       "    .dataframe tbody tr th:only-of-type {\n",
       "        vertical-align: middle;\n",
       "    }\n",
       "\n",
       "    .dataframe tbody tr th {\n",
       "        vertical-align: top;\n",
       "    }\n",
       "\n",
       "    .dataframe thead th {\n",
       "        text-align: right;\n",
       "    }\n",
       "</style>\n",
       "<table border=\"1\" class=\"dataframe\">\n",
       "  <thead>\n",
       "    <tr style=\"text-align: right;\">\n",
       "      <th></th>\n",
       "      <th>Phase</th>\n",
       "      <th>Count</th>\n",
       "      <th>Successes</th>\n",
       "      <th>Location</th>\n",
       "    </tr>\n",
       "  </thead>\n",
       "  <tbody>\n",
       "    <tr>\n",
       "      <th>0</th>\n",
       "      <td>A</td>\n",
       "      <td>50</td>\n",
       "      <td>20</td>\n",
       "      <td>Austin Texas</td>\n",
       "    </tr>\n",
       "    <tr>\n",
       "      <th>1</th>\n",
       "      <td>A</td>\n",
       "      <td>40</td>\n",
       "      <td>17</td>\n",
       "      <td>Nashville Tennessee</td>\n",
       "    </tr>\n",
       "    <tr>\n",
       "      <th>2</th>\n",
       "      <td>A</td>\n",
       "      <td>65</td>\n",
       "      <td>31</td>\n",
       "      <td>Nashville Tennessee</td>\n",
       "    </tr>\n",
       "  </tbody>\n",
       "</table>\n",
       "</div>"
      ],
      "text/plain": [
       "  Phase  Count  Successes             Location\n",
       "0     A     50         20         Austin Texas\n",
       "1     A     40         17  Nashville Tennessee\n",
       "2     A     65         31  Nashville Tennessee"
      ]
     },
     "execution_count": 10,
     "metadata": {},
     "output_type": "execute_result"
    }
   ],
   "source": [
    "# CHUNK 2: Subset to select Phase = A\n",
    "\n",
    "# Subset to only Phase A\n",
    "trials_A = trials.query(\"Phase == 'A' and Successes >= 20\")\n",
    "# trials_A = trials.query(\"Phase == 'A'\")\n",
    "display(trials_A)\n",
    "\n",
    "# CHUNK 2A: Subsetting using brackets\n",
    "\n",
    "trials_A = trials.loc[trials.Phase == \"A\",:]\n",
    "trials_A"
   ]
  },
  {
   "cell_type": "code",
   "execution_count": null,
   "metadata": {},
   "outputs": [],
   "source": [
    "# CHUNK 3: Subset to select Phase = A or B\n",
    "\n",
    "# Either Phase A or B\n",
    "trials_ABv1 = trials.query(\"Phase in ['A','B']\") # or\n",
    "trials_ABv2 = trials.query(\"Phase == 'A' or Phase == 'B'\")\n",
    "trials_ABv1\n",
    "trials_ABv2"
   ]
  },
  {
   "cell_type": "code",
   "execution_count": null,
   "metadata": {},
   "outputs": [],
   "source": [
    "# CHUNK 4: Subset to select Phase not equal to A\n",
    "\n",
    "# Not Phase A\n",
    "trials_NotAv1 = trials.query(\"Phase != 'A'\") # or\n",
    "trials_NotAv2 = trials.query(\"not Phase == 'A'\")\n",
    "trials_NotAv1\n",
    "trials_NotAv2"
   ]
  },
  {
   "cell_type": "code",
   "execution_count": 19,
   "metadata": {},
   "outputs": [
    {
     "data": {
      "text/html": [
       "<div>\n",
       "<style scoped>\n",
       "    .dataframe tbody tr th:only-of-type {\n",
       "        vertical-align: middle;\n",
       "    }\n",
       "\n",
       "    .dataframe tbody tr th {\n",
       "        vertical-align: top;\n",
       "    }\n",
       "\n",
       "    .dataframe thead th {\n",
       "        text-align: right;\n",
       "    }\n",
       "</style>\n",
       "<table border=\"1\" class=\"dataframe\">\n",
       "  <thead>\n",
       "    <tr style=\"text-align: right;\">\n",
       "      <th></th>\n",
       "      <th>Phase</th>\n",
       "      <th>Count</th>\n",
       "      <th>Successes</th>\n",
       "      <th>Location</th>\n",
       "    </tr>\n",
       "  </thead>\n",
       "  <tbody>\n",
       "    <tr>\n",
       "      <th>0</th>\n",
       "      <td>A</td>\n",
       "      <td>50</td>\n",
       "      <td>20</td>\n",
       "      <td>Austin Texas</td>\n",
       "    </tr>\n",
       "    <tr>\n",
       "      <th>1</th>\n",
       "      <td>A</td>\n",
       "      <td>40</td>\n",
       "      <td>17</td>\n",
       "      <td>Nashville Tennessee</td>\n",
       "    </tr>\n",
       "    <tr>\n",
       "      <th>2</th>\n",
       "      <td>A</td>\n",
       "      <td>65</td>\n",
       "      <td>31</td>\n",
       "      <td>Nashville Tennessee</td>\n",
       "    </tr>\n",
       "    <tr>\n",
       "      <th>3</th>\n",
       "      <td>B</td>\n",
       "      <td>70</td>\n",
       "      <td>40</td>\n",
       "      <td>Dallas Texas</td>\n",
       "    </tr>\n",
       "    <tr>\n",
       "      <th>4</th>\n",
       "      <td>B</td>\n",
       "      <td>70</td>\n",
       "      <td>33</td>\n",
       "      <td>Seattle Washington</td>\n",
       "    </tr>\n",
       "    <tr>\n",
       "      <th>5</th>\n",
       "      <td>B</td>\n",
       "      <td>90</td>\n",
       "      <td>41</td>\n",
       "      <td>Houston Texas</td>\n",
       "    </tr>\n",
       "  </tbody>\n",
       "</table>\n",
       "</div>"
      ],
      "text/plain": [
       "  Phase  Count  Successes             Location\n",
       "0     A     50         20         Austin Texas\n",
       "1     A     40         17  Nashville Tennessee\n",
       "2     A     65         31  Nashville Tennessee\n",
       "3     B     70         40         Dallas Texas\n",
       "4     B     70         33   Seattle Washington\n",
       "5     B     90         41        Houston Texas"
      ]
     },
     "metadata": {},
     "output_type": "display_data"
    },
    {
     "data": {
      "text/html": [
       "<div>\n",
       "<style scoped>\n",
       "    .dataframe tbody tr th:only-of-type {\n",
       "        vertical-align: middle;\n",
       "    }\n",
       "\n",
       "    .dataframe tbody tr th {\n",
       "        vertical-align: top;\n",
       "    }\n",
       "\n",
       "    .dataframe thead th {\n",
       "        text-align: right;\n",
       "    }\n",
       "</style>\n",
       "<table border=\"1\" class=\"dataframe\">\n",
       "  <thead>\n",
       "    <tr style=\"text-align: right;\">\n",
       "      <th></th>\n",
       "      <th>Phase</th>\n",
       "      <th>Count</th>\n",
       "      <th>Successes</th>\n",
       "      <th>Location</th>\n",
       "    </tr>\n",
       "  </thead>\n",
       "  <tbody>\n",
       "    <tr>\n",
       "      <th>0</th>\n",
       "      <td>A</td>\n",
       "      <td>50</td>\n",
       "      <td>20</td>\n",
       "      <td>Austin Texas</td>\n",
       "    </tr>\n",
       "    <tr>\n",
       "      <th>1</th>\n",
       "      <td>A</td>\n",
       "      <td>40</td>\n",
       "      <td>17</td>\n",
       "      <td>Nashville Tennessee</td>\n",
       "    </tr>\n",
       "    <tr>\n",
       "      <th>2</th>\n",
       "      <td>A</td>\n",
       "      <td>65</td>\n",
       "      <td>31</td>\n",
       "      <td>Nashville Tennessee</td>\n",
       "    </tr>\n",
       "    <tr>\n",
       "      <th>3</th>\n",
       "      <td>B</td>\n",
       "      <td>70</td>\n",
       "      <td>40</td>\n",
       "      <td>Dallas Texas</td>\n",
       "    </tr>\n",
       "    <tr>\n",
       "      <th>4</th>\n",
       "      <td>B</td>\n",
       "      <td>70</td>\n",
       "      <td>33</td>\n",
       "      <td>Seattle Washington</td>\n",
       "    </tr>\n",
       "    <tr>\n",
       "      <th>5</th>\n",
       "      <td>B</td>\n",
       "      <td>90</td>\n",
       "      <td>41</td>\n",
       "      <td>Houston Texas</td>\n",
       "    </tr>\n",
       "  </tbody>\n",
       "</table>\n",
       "</div>"
      ],
      "text/plain": [
       "  Phase  Count  Successes             Location\n",
       "0     A     50         20         Austin Texas\n",
       "1     A     40         17  Nashville Tennessee\n",
       "2     A     65         31  Nashville Tennessee\n",
       "3     B     70         40         Dallas Texas\n",
       "4     B     70         33   Seattle Washington\n",
       "5     B     90         41        Houston Texas"
      ]
     },
     "metadata": {},
     "output_type": "display_data"
    },
    {
     "data": {
      "text/html": [
       "<div>\n",
       "<style scoped>\n",
       "    .dataframe tbody tr th:only-of-type {\n",
       "        vertical-align: middle;\n",
       "    }\n",
       "\n",
       "    .dataframe tbody tr th {\n",
       "        vertical-align: top;\n",
       "    }\n",
       "\n",
       "    .dataframe thead th {\n",
       "        text-align: right;\n",
       "    }\n",
       "</style>\n",
       "<table border=\"1\" class=\"dataframe\">\n",
       "  <thead>\n",
       "    <tr style=\"text-align: right;\">\n",
       "      <th></th>\n",
       "      <th>Phase</th>\n",
       "      <th>Count</th>\n",
       "      <th>Successes</th>\n",
       "      <th>Location</th>\n",
       "    </tr>\n",
       "  </thead>\n",
       "  <tbody>\n",
       "    <tr>\n",
       "      <th>0</th>\n",
       "      <td>A</td>\n",
       "      <td>50</td>\n",
       "      <td>20</td>\n",
       "      <td>Austin Texas</td>\n",
       "    </tr>\n",
       "    <tr>\n",
       "      <th>1</th>\n",
       "      <td>A</td>\n",
       "      <td>40</td>\n",
       "      <td>17</td>\n",
       "      <td>Nashville Tennessee</td>\n",
       "    </tr>\n",
       "    <tr>\n",
       "      <th>2</th>\n",
       "      <td>A</td>\n",
       "      <td>65</td>\n",
       "      <td>31</td>\n",
       "      <td>Nashville Tennessee</td>\n",
       "    </tr>\n",
       "    <tr>\n",
       "      <th>3</th>\n",
       "      <td>B</td>\n",
       "      <td>70</td>\n",
       "      <td>40</td>\n",
       "      <td>Dallas Texas</td>\n",
       "    </tr>\n",
       "    <tr>\n",
       "      <th>4</th>\n",
       "      <td>B</td>\n",
       "      <td>70</td>\n",
       "      <td>33</td>\n",
       "      <td>Seattle Washington</td>\n",
       "    </tr>\n",
       "    <tr>\n",
       "      <th>5</th>\n",
       "      <td>B</td>\n",
       "      <td>90</td>\n",
       "      <td>41</td>\n",
       "      <td>Houston Texas</td>\n",
       "    </tr>\n",
       "  </tbody>\n",
       "</table>\n",
       "</div>"
      ],
      "text/plain": [
       "  Phase  Count  Successes             Location\n",
       "0     A     50         20         Austin Texas\n",
       "1     A     40         17  Nashville Tennessee\n",
       "2     A     65         31  Nashville Tennessee\n",
       "3     B     70         40         Dallas Texas\n",
       "4     B     70         33   Seattle Washington\n",
       "5     B     90         41        Houston Texas"
      ]
     },
     "metadata": {},
     "output_type": "display_data"
    }
   ],
   "source": [
    "# CHUNK 5: Exercise 2.3.1: Use three different ways to subset to all locations where Phase is A or C\n",
    "display(trials.query(\"Phase == ['A', 'B']\"))\n",
    "display(trials.loc[(trials.Phase == 'A') | (trials.Phase == 'B')])\n",
    "display(trials.query(\"Phase != 'C'\"))"
   ]
  },
  {
   "cell_type": "code",
   "execution_count": null,
   "metadata": {},
   "outputs": [],
   "source": [
    "# CHUNK 6: Exercise 2.3.1: Solution\n",
    "\n",
    "sol1 = trials.query(\"Phase in ['A','C']\") \n",
    "sol2 = trials.query(\"Phase == 'A' or Phase == 'C'\") \n",
    "sol3 = trials.query(\"Phase != 'B'\") \n",
    "sol1\n",
    "sol2\n",
    "sol3"
   ]
  },
  {
   "cell_type": "code",
   "execution_count": null,
   "metadata": {},
   "outputs": [],
   "source": [
    "# CHUNK 7: Subset to Counts greater than or equal to 50\n",
    "\n",
    "# Count greater than or equal to 50\n",
    "trials_50 = trials.query(\"Count >= 50\")\n",
    "trials_50"
   ]
  },
  {
   "cell_type": "code",
   "execution_count": null,
   "metadata": {},
   "outputs": [],
   "source": [
    "# CHUNK 8: Subset to Count less than 40 or greater than 70\n",
    "\n",
    "# Count less than 40 or greater than 70\n",
    "trials_4070 = trials.query(\"Count < 40 or Count > 70\")\n",
    "trials_4070"
   ]
  },
  {
   "cell_type": "code",
   "execution_count": null,
   "metadata": {},
   "outputs": [],
   "source": [
    "# CHUNK 9: Subset to Count between 45 and 80\n",
    "\n",
    "# Count between 45 and 80\n",
    "trials_4580 = trials.query(\"Count > 45 and Count < 80\")\n",
    "trials_4580"
   ]
  },
  {
   "cell_type": "code",
   "execution_count": 22,
   "metadata": {},
   "outputs": [
    {
     "data": {
      "text/plain": [
       "0     True\n",
       "1    False\n",
       "2    False\n",
       "3     True\n",
       "4    False\n",
       "5     True\n",
       "6    False\n",
       "7    False\n",
       "8     True\n",
       "Name: Location, dtype: bool"
      ]
     },
     "execution_count": 22,
     "metadata": {},
     "output_type": "execute_result"
    }
   ],
   "source": [
    "trials.Location.str.contains('Texas')"
   ]
  },
  {
   "cell_type": "code",
   "execution_count": 26,
   "metadata": {},
   "outputs": [
    {
     "data": {
      "text/html": [
       "<div>\n",
       "<style scoped>\n",
       "    .dataframe tbody tr th:only-of-type {\n",
       "        vertical-align: middle;\n",
       "    }\n",
       "\n",
       "    .dataframe tbody tr th {\n",
       "        vertical-align: top;\n",
       "    }\n",
       "\n",
       "    .dataframe thead th {\n",
       "        text-align: right;\n",
       "    }\n",
       "</style>\n",
       "<table border=\"1\" class=\"dataframe\">\n",
       "  <thead>\n",
       "    <tr style=\"text-align: right;\">\n",
       "      <th></th>\n",
       "      <th>Phase</th>\n",
       "      <th>Count</th>\n",
       "      <th>Successes</th>\n",
       "      <th>Location</th>\n",
       "    </tr>\n",
       "  </thead>\n",
       "  <tbody>\n",
       "  </tbody>\n",
       "</table>\n",
       "</div>"
      ],
      "text/plain": [
       "Empty DataFrame\n",
       "Columns: [Phase, Count, Successes, Location]\n",
       "Index: []"
      ]
     },
     "execution_count": 26,
     "metadata": {},
     "output_type": "execute_result"
    }
   ],
   "source": [
    "# CHUNK 10: Subset to Location contains Texas\n",
    "\n",
    "# Location contains Texas\n",
    "trials_Texas = trials.loc[trials.Location.str.contains('Texas'),:]\n",
    "trials_Texas\n",
    "\n",
    "trials.loc[trials.Location.str.startswith('Texas'),:]\n",
    "trials.loc[trials.Location.str.endswith('Texas'),:]\n",
    "trials.loc[trials.Location.str.isdigit(),:]"
   ]
  },
  {
   "cell_type": "code",
   "execution_count": null,
   "metadata": {},
   "outputs": [],
   "source": [
    "# CHUNK 12: Exercise 2.3.2: Solution\n",
    "\n",
    "# Subset to locations that\n",
    "# a) contain \"n\"\n",
    "trials_contain_n = trials.loc[trials.Location.str.contains('n'),:]\n",
    "trials_contain_n\n",
    "\n",
    "# b) ends with \"n\"\n",
    "trials_end_n = trials.loc[trials.Location.str.endswith('n'),:]\n",
    "trials_end_n\n",
    "\n",
    "# c) start with \"n\"\n",
    "trials_start_n = trials.loc[trials.Location.str.startswith('n'),:]\n",
    "trials_start_n"
   ]
  },
  {
   "cell_type": "code",
   "execution_count": null,
   "metadata": {},
   "outputs": [],
   "source": [
    "# CHUNK 13: Subset to Phase is A and Count exceeds 40\n",
    "\n",
    "# Phase is A and count is more than 40\n",
    "trials_A40 = trials.query(\"Phase == 'A' and Count > 40\")\n",
    "trials_A40"
   ]
  },
  {
   "cell_type": "code",
   "execution_count": null,
   "metadata": {},
   "outputs": [],
   "source": [
    "# CHUNK 15: Exercise 2.3.3: Solution\n",
    "\n",
    "\n",
    "# Subset to observations where Count is less than 50 AND Successes are more than 15.\n",
    "trials_50and15 = trials.query(\"Count < 50 and Successes > 15\")\n",
    "trials_50and15\n",
    "\n",
    "# Subset to observations where either Count is less than 50 OR Successes are more than 15.\n",
    "trials_50or15 = trials.query(\"Count < 50 or Successes > 15\")\n",
    "trials_50or15"
   ]
  },
  {
   "cell_type": "code",
   "execution_count": 30,
   "metadata": {},
   "outputs": [
    {
     "data": {
      "text/html": [
       "<div>\n",
       "<style scoped>\n",
       "    .dataframe tbody tr th:only-of-type {\n",
       "        vertical-align: middle;\n",
       "    }\n",
       "\n",
       "    .dataframe tbody tr th {\n",
       "        vertical-align: top;\n",
       "    }\n",
       "\n",
       "    .dataframe thead th {\n",
       "        text-align: right;\n",
       "    }\n",
       "</style>\n",
       "<table border=\"1\" class=\"dataframe\">\n",
       "  <thead>\n",
       "    <tr style=\"text-align: right;\">\n",
       "      <th></th>\n",
       "      <th>Phase</th>\n",
       "      <th>Count</th>\n",
       "      <th>Successes</th>\n",
       "      <th>Location</th>\n",
       "    </tr>\n",
       "  </thead>\n",
       "  <tbody>\n",
       "    <tr>\n",
       "      <th>0</th>\n",
       "      <td>A</td>\n",
       "      <td>50</td>\n",
       "      <td>20</td>\n",
       "      <td>Austin Texas</td>\n",
       "    </tr>\n",
       "    <tr>\n",
       "      <th>1</th>\n",
       "      <td>A</td>\n",
       "      <td>40</td>\n",
       "      <td>17</td>\n",
       "      <td>Nashville Tennessee</td>\n",
       "    </tr>\n",
       "    <tr>\n",
       "      <th>2</th>\n",
       "      <td>A</td>\n",
       "      <td>65</td>\n",
       "      <td>31</td>\n",
       "      <td>Nashville Tennessee</td>\n",
       "    </tr>\n",
       "    <tr>\n",
       "      <th>4</th>\n",
       "      <td>B</td>\n",
       "      <td>70</td>\n",
       "      <td>33</td>\n",
       "      <td>Seattle Washington</td>\n",
       "    </tr>\n",
       "    <tr>\n",
       "      <th>5</th>\n",
       "      <td>B</td>\n",
       "      <td>90</td>\n",
       "      <td>41</td>\n",
       "      <td>Houston Texas</td>\n",
       "    </tr>\n",
       "    <tr>\n",
       "      <th>6</th>\n",
       "      <td>C</td>\n",
       "      <td>30</td>\n",
       "      <td>12</td>\n",
       "      <td>Orlando Florida</td>\n",
       "    </tr>\n",
       "  </tbody>\n",
       "</table>\n",
       "</div>"
      ],
      "text/plain": [
       "  Phase  Count  Successes             Location\n",
       "0     A     50         20         Austin Texas\n",
       "1     A     40         17  Nashville Tennessee\n",
       "2     A     65         31  Nashville Tennessee\n",
       "4     B     70         33   Seattle Washington\n",
       "5     B     90         41        Houston Texas\n",
       "6     C     30         12      Orlando Florida"
      ]
     },
     "execution_count": 30,
     "metadata": {},
     "output_type": "execute_result"
    }
   ],
   "source": [
    "# CHUNK 16: Exercise 2.3.4: Subset to include only locations that include an “s” AND have more than 10 successes\n",
    "trials.loc[trials.Location.str.contains('n') & (trials.Successes > 10), :]"
   ]
  },
  {
   "cell_type": "code",
   "execution_count": 28,
   "metadata": {},
   "outputs": [
    {
     "data": {
      "text/html": [
       "<div>\n",
       "<style scoped>\n",
       "    .dataframe tbody tr th:only-of-type {\n",
       "        vertical-align: middle;\n",
       "    }\n",
       "\n",
       "    .dataframe tbody tr th {\n",
       "        vertical-align: top;\n",
       "    }\n",
       "\n",
       "    .dataframe thead th {\n",
       "        text-align: right;\n",
       "    }\n",
       "</style>\n",
       "<table border=\"1\" class=\"dataframe\">\n",
       "  <thead>\n",
       "    <tr style=\"text-align: right;\">\n",
       "      <th></th>\n",
       "      <th>Phase</th>\n",
       "      <th>Count</th>\n",
       "      <th>Successes</th>\n",
       "      <th>Location</th>\n",
       "    </tr>\n",
       "  </thead>\n",
       "  <tbody>\n",
       "    <tr>\n",
       "      <th>0</th>\n",
       "      <td>A</td>\n",
       "      <td>50</td>\n",
       "      <td>20</td>\n",
       "      <td>Austin Texas</td>\n",
       "    </tr>\n",
       "    <tr>\n",
       "      <th>1</th>\n",
       "      <td>A</td>\n",
       "      <td>40</td>\n",
       "      <td>17</td>\n",
       "      <td>Nashville Tennessee</td>\n",
       "    </tr>\n",
       "    <tr>\n",
       "      <th>2</th>\n",
       "      <td>A</td>\n",
       "      <td>65</td>\n",
       "      <td>31</td>\n",
       "      <td>Nashville Tennessee</td>\n",
       "    </tr>\n",
       "    <tr>\n",
       "      <th>4</th>\n",
       "      <td>B</td>\n",
       "      <td>70</td>\n",
       "      <td>33</td>\n",
       "      <td>Seattle Washington</td>\n",
       "    </tr>\n",
       "    <tr>\n",
       "      <th>5</th>\n",
       "      <td>B</td>\n",
       "      <td>90</td>\n",
       "      <td>41</td>\n",
       "      <td>Houston Texas</td>\n",
       "    </tr>\n",
       "    <tr>\n",
       "      <th>6</th>\n",
       "      <td>C</td>\n",
       "      <td>30</td>\n",
       "      <td>12</td>\n",
       "      <td>Orlando Florida</td>\n",
       "    </tr>\n",
       "  </tbody>\n",
       "</table>\n",
       "</div>"
      ],
      "text/plain": [
       "  Phase  Count  Successes             Location\n",
       "0     A     50         20         Austin Texas\n",
       "1     A     40         17  Nashville Tennessee\n",
       "2     A     65         31  Nashville Tennessee\n",
       "4     B     70         33   Seattle Washington\n",
       "5     B     90         41        Houston Texas\n",
       "6     C     30         12      Orlando Florida"
      ]
     },
     "execution_count": 28,
     "metadata": {},
     "output_type": "execute_result"
    }
   ],
   "source": [
    "# CHUNK 17: Exercise 2.3.4: Solution\n",
    "trials_sand10 = trials.loc[trials.Location.str.contains('n') & (trials.Successes > 10),:]\n",
    "trials_sand10"
   ]
  },
  {
   "cell_type": "code",
   "execution_count": null,
   "metadata": {},
   "outputs": [],
   "source": [
    "# CHUNK 18: Subset to the Count variable\n",
    "\n",
    "# Subset to the Count variable\n",
    "trials_Count = trials.loc[:,\"Count\"]\n",
    "trials_Count\n"
   ]
  },
  {
   "cell_type": "code",
   "execution_count": null,
   "metadata": {},
   "outputs": [],
   "source": [
    "# CHUNK 19: Subset to the Count and Successes variables\n",
    "\n",
    "# Subset to counts and successes\n",
    "trials_CandSv1 = trials.loc[:,[\"Count\",\"Successes\"]] # or\n",
    "trials_CandSv2 = trials.iloc[:,1:3]\n",
    "trials_CandSv1\n",
    "trials_CandSv2"
   ]
  },
  {
   "cell_type": "code",
   "execution_count": null,
   "metadata": {},
   "outputs": [],
   "source": [
    "# CHUNK 20: Subset to delete the variable Location\n",
    "\n",
    "# Subset to all variables except Location\n",
    "trials_noLocation = trials.drop(columns = [\"Location\"])\n",
    "trials_noLocation"
   ]
  },
  {
   "cell_type": "code",
   "execution_count": null,
   "metadata": {},
   "outputs": [],
   "source": [
    "# CHUNK 21: Exercise 2.3.5: Subset to include Count and Successes for those in Phase A"
   ]
  },
  {
   "cell_type": "code",
   "execution_count": null,
   "metadata": {},
   "outputs": [],
   "source": [
    "# CHUNK 22: Exercise 2.3.5: Solution\n",
    "\n",
    "sol = trials.query(\"Phase == 'A'\") # Must do this first, before deleting the Phase column\n",
    "sol = sol.loc[:,[\"Count\",\"Successes\"]]\n",
    "sol"
   ]
  },
  {
   "cell_type": "code",
   "execution_count": null,
   "metadata": {},
   "outputs": [],
   "source": [
    "# CHUNK 23: Order the data by increasing count\n",
    "\n",
    "# Sort by Count, low to high\n",
    "trials_sortCountInc = trials.sort_values([\"Count\"])\n",
    "trials_sortCountInc"
   ]
  },
  {
   "cell_type": "code",
   "execution_count": null,
   "metadata": {},
   "outputs": [],
   "source": [
    "# CHUNK 24: Order the data by decreasing count\n",
    "\n",
    "# Sort counts high to low\n",
    "trials_sortCountDec = trials.sort_values([\"Count\"],ascending =False)\n",
    "trials_sortCountDec"
   ]
  },
  {
   "cell_type": "code",
   "execution_count": null,
   "metadata": {},
   "outputs": [],
   "source": [
    "# CHUNK 25: Order the data by increasing count, using increasing successes to break ties\n",
    "\n",
    "# Successes is a tie breaker for counts\n",
    "trials_tiebreak1 = trials.sort_values([\"Count\",\"Successes\"])\n",
    "trials_tiebreak1\n",
    "\n",
    "# The following breaks the tie using decreasing successes\n",
    "trials_tiebreak2 = trials.sort_values([\"Count\",\"Successes\"], ascending = [True, False])\n",
    "trials_tiebreak2"
   ]
  },
  {
   "cell_type": "code",
   "execution_count": null,
   "metadata": {},
   "outputs": [],
   "source": [
    "# CHUNK 26: Create the new variable Rate = Successes/Count\n",
    "\n",
    "# Create a new variable\n",
    "trials_rate1 = trials.assign(Rate = trials.Successes/trials.Count)\n",
    "trials_rate1\n",
    "trials_rate2 = trials.copy() # Ensures that an exact copy is made, which ignores the internal cration of Rate above.\n",
    "trials_rate2[\"Rate\"] = trials_rate2.Successes/trials.Count\n",
    "trials_rate2"
   ]
  },
  {
   "cell_type": "code",
   "execution_count": null,
   "metadata": {},
   "outputs": [],
   "source": [
    "# CHUNK 27: Creating two variables at once\n",
    "\n",
    "# Create multiple variables\n",
    "trials_multi = trials.assign(Large_Counts = trials.Count > 50, In_Texas = trials.Location.str.contains(\"Texas\"))\n",
    "trials_multi"
   ]
  },
  {
   "cell_type": "code",
   "execution_count": null,
   "metadata": {},
   "outputs": [],
   "source": [
    "# CHUNK 28: Create bins for the Count variable\n",
    "\n",
    "# Create binned variable\n",
    "trials_bin = trials.assign(Count_Level = pd.cut(trials.Count,bins = [0,35,65,100],labels = [\"Low\",\"Medium\",\"High\"]))\n",
    "trials_bin"
   ]
  },
  {
   "cell_type": "code",
   "execution_count": null,
   "metadata": {},
   "outputs": [],
   "source": [
    "# CHUNK 29: Overwrite Location by making each observation have the value \"Unknown\"\n",
    "\n",
    "# Reassign an existing variable\n",
    "trials_unknown = trials.assign(Location = \"Unknown\")\n",
    "trials_unknown"
   ]
  },
  {
   "cell_type": "code",
   "execution_count": null,
   "metadata": {},
   "outputs": [],
   "source": [
    "# CHUNK 30: Exercise 2.3.6: Create two sets of bins for the Successes variable\n",
    "\n",
    "# (a) Bin Successes using cutoffs of 15 and 30\n",
    "\n",
    "\n",
    "# (b) Bin Successes into four bins with an approximately equal number of observations in each bin. Check help on cut."
   ]
  },
  {
   "cell_type": "code",
   "execution_count": null,
   "metadata": {},
   "outputs": [],
   "source": [
    "# CHUNK 31: Exercise 2.3.6: Solution\n",
    "\n",
    "# (a) Bin Successes using cutoffs of 15 and 30\n",
    "trials_bin1 = trials.assign(Success_Level = pd.cut(trials.Successes,bins = [0,15,30,100],labels = [\"Low\",\"Medium\",\"High\"]))\n",
    "trials_bin1\n",
    "\n",
    "# (b) Bin Successes into four bins with an approximately equal number of observations in each bin.\n",
    "trials_bin2 = trials.assign(Success_Level = pd.cut(trials.Successes,bins = 4))  # By not specifying the labels, they will be generated automatically. See help to learn why the lower limit of the first interval was changed.\n",
    "trials_bin2"
   ]
  },
  {
   "cell_type": "code",
   "execution_count": null,
   "metadata": {},
   "outputs": [],
   "source": [
    "# CHUNK 32: Obtain the mean count by phase\n",
    "\n",
    "# Find mean counts by phase\n",
    "# In Python, this can be done simply, as follows:\n",
    "trials_means = trials.groupby(\"Phase\").agg({\"Count\":\"mean\"})\n",
    "trials_means\n",
    "# The following code puts Phase (in this case) as a variable, not a row label. It also changes the name of the aggregated variable\n",
    "trials_means2 = trials.groupby(\"Phase\",as_index=False).agg({\"Count\":\"mean\"}).rename(columns={\"Count\":\"Mean_Count\"})\n",
    "trials_means2"
   ]
  },
  {
   "cell_type": "code",
   "execution_count": null,
   "metadata": {},
   "outputs": [],
   "source": [
    "# CHUNK 33: Obtain the number of observations in each phase\n",
    "\n",
    "# Counts how many in each phase\n",
    "trials_number = trials.groupby(\"Phase\",as_index=False).size().rename(columns={\"size\":\"Number_in_Phase\"})\n",
    "trials_number"
   ]
  },
  {
   "cell_type": "code",
   "execution_count": null,
   "metadata": {},
   "outputs": [],
   "source": [
    "# CHUNK 34: Obtain the number of unique locations in each phase\n",
    "\n",
    "# Count the number of unique locations in each phase\n",
    "trials_unique = trials.groupby(\"Phase\",as_index=False).agg({\"Location\":\"nunique\"}).rename(columns={\"Location\":\"Unique_Locations\"})\n",
    "trials_unique"
   ]
  },
  {
   "cell_type": "code",
   "execution_count": null,
   "metadata": {},
   "outputs": [],
   "source": [
    "# CHUNK 35: Exercise 2.3.7: Obtain the number of unique values of Count in each Phase\n",
    "\n",
    "# Count the number of unique Count values there are in each Phase.\n"
   ]
  },
  {
   "cell_type": "code",
   "execution_count": null,
   "metadata": {},
   "outputs": [],
   "source": [
    "# CHUNK 36: Exercise 2.3.7: Solution\n",
    "\n",
    "# Count the number of unique Count values there are in each Phase.\n",
    "trials_countOfCount = trials.groupby(\"Phase\",as_index=False).agg({\"Count\":\"nunique\"}).rename(columns={\"Count\":\"Unique_Counts\"})\n",
    "trials_countOfCount"
   ]
  },
  {
   "cell_type": "code",
   "execution_count": null,
   "metadata": {},
   "outputs": [],
   "source": [
    "# CHUNK 37: Exercise 2.3.8: \n",
    "\n",
    "flights = pd.read_csv(\"flights.csv\")\n",
    "pd.set_option('max_columns', None) # This will display all the columns\n",
    "\n",
    "# 1. Filter observations to only values where carrier is equal to “UA”\n",
    "\n",
    "# 2. Filter observations to only where the dest variable is either “MIA” or “ORD”\n",
    "\n",
    "# 3. Filter observations to only where air_time is between 60 and 120 minutes.\n",
    "\n",
    "# 4. Filter variables to only sched_dep_time and dep_delay\n",
    "\n",
    "# 5. Order the data from longest distance to shortest distance\n",
    "\n",
    "# 6. Create a new variable called delayed that returns TRUE if dep_delay is greater than 0 and FALSE otherwise.\n",
    "\n",
    "# 7. Create a new variable called mph that is equal to distance divided by air_time times 60\n",
    "\n",
    "# 8. Determine mean dep_delay values by carrier. Call it mean_delay\n",
    "\n",
    "# 9. Each plane has a unique value for tailnum. Determine how many distinct planes each carrier uses. Call it num_planes"
   ]
  },
  {
   "cell_type": "code",
   "execution_count": null,
   "metadata": {},
   "outputs": [],
   "source": [
    "# CHUNK 38: Exercise 2.3.8: Solution\n",
    "\n",
    "flights = pd.read_csv(\"flights.csv\")\n",
    "pd.set_option('max_columns', None) # This will display all the columns\n",
    "\n",
    "# 1. Filter observations to only values where carrier is equal to “UA”\n",
    "flights.query(\"carrier == 'UA'\")\n",
    "\n",
    "# 2. Filter observations to only where the dest variable is either “MIA” or “ORD”\n",
    "flights.query(\"dest in ['MIA','ORD']\")\n",
    "\n",
    "# 3. Filter observations to only where air_time is between 60 and 120 minutes.\n",
    "flights.query(\"air_time > 60 and air_time < 120\")\n",
    "\n",
    "# 4. Filter variables to only sched_dep_time and dep_delay\n",
    "flights.loc[:,[\"sched_dep_time\",\"dep_delay\"]]\n",
    "\n",
    "# 5. Order the data from longest distance to shortest distance\n",
    "flights.sort_values(\"distance\",ascending=False)\n",
    "\n",
    "# 6. Create a new variable called delayed that returns TRUE if dep_delay is greater than 0 and FALSE otherwise.\n",
    "flights.assign(delayed = flights.dep_delay > 0)\n",
    "\n",
    "# 7. Create a new variable called mph that is equal to distance divided by air_time times 60\n",
    "flights.assign(mph = flights.distance/flights.air_time*60.)\n",
    "\n",
    "# 8. Determine mean dep_delay values by carrier. Call it mean_delay\n",
    "flights.groupby(\"carrier\",as_index=False).agg({\"dep_delay\":\"mean\"}).rename(columns={\"dep_delay\":\"mean_delay\"})\n",
    "\n",
    "# 9. Each plane has a unique value for tailnum. Determine how many distinct planes each carrier uses. Call it num_planes\n",
    "flights.groupby(\"carrier\",as_index=False).agg({\"tailnum\":\"nunique\"}).rename(columns={\"tailnum\":\"num_planes\"})"
   ]
  },
  {
   "cell_type": "code",
   "execution_count": null,
   "metadata": {},
   "outputs": [],
   "source": [
    "# CHUNK 39: Exercise 2.3.9\n",
    "\n",
    "# Determine the top 5 most common destinations from JFK airport."
   ]
  },
  {
   "cell_type": "code",
   "execution_count": null,
   "metadata": {},
   "outputs": [],
   "source": [
    "\n",
    "# CHUNK 40: Exercise 2.3.9: Solution\n",
    "\n",
    "# Determine the top 5 most common destinations from JFK airport.\n",
    "flights_jfk = flights.query(\"origin == 'JFK'\").groupby(\"dest\",as_index=False).size().rename(columns={\"size\":\"number_flights\"}).sort_values(\"number_flights\",ascending=False)\n",
    "flights_jfk.head(5)"
   ]
  },
  {
   "cell_type": "code",
   "execution_count": null,
   "metadata": {},
   "outputs": [],
   "source": [
    "# CHUNK 41: Exercise 2.3.10\n",
    "\n",
    "# Create a new variable that is the total number of nights booked by adding stay_in_weekday_nights and stay_in_weekend_nights. Keep only bookings where the reserved_room_type and the assigned_room_type are equal. Find the mean number of total nights stayed grouped by assigned_room_type.\n"
   ]
  },
  {
   "cell_type": "code",
   "execution_count": null,
   "metadata": {},
   "outputs": [],
   "source": [
    "# CHUNK 42: Exercise 2.3.10: Solution\n",
    "\n",
    "# Create a new variable that is the total number of nights booked by adding stay_in_weekday_nights and stay_in_weekend_nights. Keep only bookings where the reserved_room_type and the assigned_room_type are equal. Find the mean number of total nights stayed grouped by assigned_room_type.\n",
    "\n",
    "hotel_bookings = pd.read_csv(\"hotel_bookings.csv\")\n",
    "\n",
    "hotel_bookings.assign(total_stay = hotel_bookings.stays_in_week_nights + hotel_bookings.stays_in_weekend_nights).query(\"assigned_room_type == reserved_room_type\").groupby(\"assigned_room_type\",as_index=False).agg({\"total_stay\":\"mean\"}).rename(columns={\"total_stay\":\"average_total_stay\"})\n"
   ]
  },
  {
   "cell_type": "code",
   "execution_count": null,
   "metadata": {},
   "outputs": [],
   "source": [
    "\n",
    "# CHUNK 43: Create and display the sample data\n",
    "\n",
    "import numpy as np\n",
    "security = pd.DataFrame({\"Camera\":[\"Lobby\",\"Main Floor\",\"Back Door\",\"Front Door\",\"Offices\"],\"Total Hours Recorded\":[51,59,-1,22,27],\"Incidents\":[2,1,0,0,np.nan]})\n",
    "\n",
    "security"
   ]
  },
  {
   "cell_type": "code",
   "execution_count": null,
   "metadata": {},
   "outputs": [],
   "source": [
    "\n",
    "# CHUNK 44: Rename Total Hours Recorded to Hours_Recorded\n",
    "\n",
    "# Renaming variables\n",
    "security = security.rename(columns = {\"Total Hours Recorded\":\"Hours_Recorded\"})\n",
    "security\n"
   ]
  },
  {
   "cell_type": "code",
   "execution_count": null,
   "metadata": {},
   "outputs": [],
   "source": [
    "# CHUNK 45: Remove observations with Hours_Recorded = -1 or Incidents = NaN\n",
    "\n",
    "# Remove missing values specifically for each row\n",
    "security.dropna(subset=[\"Incidents\"]).query(\"Hours_Recorded != -1\") # This time we are not saving the output as we may decide on a different way to deal with missing values.\n"
   ]
  },
  {
   "cell_type": "code",
   "execution_count": null,
   "metadata": {},
   "outputs": [],
   "source": [
    "# CHUNK 46: Remove observations with NaNs without filtering\n",
    "\n",
    "# Remove all instances of NaN\n",
    "security.dropna()\n"
   ]
  },
  {
   "cell_type": "code",
   "execution_count": null,
   "metadata": {},
   "outputs": [],
   "source": [
    "# CHUNK 47: Change all instances of -1 to NaN\n",
    "\n",
    "# # CHUNK 5\n",
    "# Recode all instances of missing to NA\n",
    "# Because this code makes a permanent change to the data, we do it with a new version\n",
    "security_recode = security.replace(-1,np.nan)\n",
    "security_recode\n",
    "del security_recode # removes the object"
   ]
  },
  {
   "cell_type": "code",
   "execution_count": null,
   "metadata": {},
   "outputs": [],
   "source": [
    "# CHUNK 48: Exercise 2.3.11: Remove observations with 0 -1, and NA as if they are all missing values. Rename Incidents to Occurrences\n",
    "\n",
    "\n"
   ]
  },
  {
   "cell_type": "code",
   "execution_count": null,
   "metadata": {},
   "outputs": [],
   "source": [
    "# CHUNK 49: Exercise 2.3.11: Solution\n",
    "\n",
    "# Remove observations with 0 -1, and NA as if they are all missing values. Rename Incidents to Occurrences\n",
    "security_drop = security.dropna(subset=[\"Incidents\"]).query(\"Hours_Recorded != -1 & Incidents != 0\")\n",
    "security_drop = security_drop.rename(columns = {\"Incidents\":\"Occurrences\"})\n",
    "security_drop"
   ]
  },
  {
   "cell_type": "code",
   "execution_count": null,
   "metadata": {},
   "outputs": [],
   "source": [
    "# CHUNK 50: String to Numeric\n",
    "\n",
    "# String to Numeric\n",
    "x=\"3\"; y=\"4\"\n",
    "int(x)+int(y)"
   ]
  },
  {
   "cell_type": "code",
   "execution_count": null,
   "metadata": {},
   "outputs": [],
   "source": [
    "# CHUNK 51: Numeric to String\n",
    "\n",
    "# Numeric to String\n",
    "str(3)"
   ]
  },
  {
   "cell_type": "code",
   "execution_count": null,
   "metadata": {},
   "outputs": [],
   "source": [
    "# CHUNK 52: Changing case\n",
    "\n",
    "# Case\n",
    "\"String\".lower() # string\n",
    "\"String\".upper() # STRING"
   ]
  },
  {
   "cell_type": "code",
   "execution_count": null,
   "metadata": {},
   "outputs": [],
   "source": [
    "# CHUNK 53: Working with a vector of strings\n",
    "\n",
    "X = [\"String1\", \"String2\"]\n",
    "[str.lower() for str in X]\n",
    "[str.upper() for str in X]"
   ]
  },
  {
   "cell_type": "code",
   "execution_count": null,
   "metadata": {},
   "outputs": [],
   "source": [
    "# CHUNK 54: Replacing string content\n",
    "\n",
    "# Replacement\n",
    "x = \"my_string\"\n",
    "x.replace(\"my\",\"your\")\n",
    "X = [\"my_string1\",\"my_string2\"]\n",
    "[str.replace(\"my\",\"your\") for str in X]"
   ]
  },
  {
   "cell_type": "code",
   "execution_count": null,
   "metadata": {},
   "outputs": [],
   "source": [
    "# CHUNK 55: Replacing string content\n",
    "\n",
    "# Converting money to numeric\n",
    "x = \"$84,510\"\n",
    "float(x.replace(\"$\",\"\").replace(\",\",\"\")) # 84510"
   ]
  },
  {
   "cell_type": "code",
   "execution_count": null,
   "metadata": {},
   "outputs": [],
   "source": [
    "# CHUNK 56: Obtaining substrings\n",
    "\n",
    "# Substrings\n",
    "x = \"apple\"\n",
    "x[0:3]\n",
    "X = [\"apple\",\"pear\"]\n",
    "[str[0:3] for str in X]"
   ]
  },
  {
   "cell_type": "code",
   "execution_count": null,
   "metadata": {},
   "outputs": [],
   "source": [
    "# CHUNK 57: Combining and splitting strings\n",
    "\n",
    "# Combining Strings\n",
    "\"apple\"+\"crisp\"\n",
    "\"\".join([\"honey\",\"apple\",\"crisp\"]) # no space between the words\n",
    "\"-\".join([\"honey\",\"apple\",\"crisp\"]) # places a dash between the words\n",
    "# honey-apple-crisp\n",
    "\" \".join([\"honey\",\"apple\",\"crisp\"]) # places a space between the words\n",
    "# honey apple crisp\n",
    "\n",
    "# Splitting Strings\n",
    "dessert = \"honey apple crisp\"\n",
    "dessert.split(\" \")"
   ]
  },
  {
   "cell_type": "code",
   "execution_count": null,
   "metadata": {},
   "outputs": [],
   "source": [
    "# CHUNK 58: Exercise 2.3.12: Perform the indicated tasks on a vector of words\n",
    "\n",
    "my_words = [\"Actuarial\",\"Exam\",\"Passed\"]\n",
    "\n",
    "# 1. Change all the letters to lower case\n",
    "\n",
    "\n",
    "# 2. Replace each letter “a” with a dollar sign, “$”\n",
    "\n",
    "\n",
    "# 3. Combine all three words putting a space in between"
   ]
  },
  {
   "cell_type": "code",
   "execution_count": null,
   "metadata": {},
   "outputs": [],
   "source": [
    "# CHUNK 59: Exercise 2.3.12: Solution\n",
    "\n",
    "my_words = [\"Actuarial\",\"Exam\",\"Passed\"]\n",
    "\n",
    "# 1. Change all the letter to lower case\n",
    "[str.lower() for str in my_words]\n",
    "\n",
    "# 2. Replace all “a”’s with dollar signs, “$”\n",
    "[str.replace(\"a\",\"$\") for str in my_words]\n",
    "\n",
    "# 3. Combine all three words putting a space in between\n",
    "\" \".join(my_words)"
   ]
  },
  {
   "cell_type": "code",
   "execution_count": null,
   "metadata": {},
   "outputs": [],
   "source": [
    "# CHUNK 60: Making date variables\n",
    "\n",
    "# The datetime package comes with python and does not need to be installed\n",
    "import datetime as dt\n",
    "dt.date(year = 2022, month = 1, day=1)\n",
    "dt.datetime(year = 2022, month =1, day = 1, hour = 9, minute = 30, second = 55)"
   ]
  },
  {
   "cell_type": "code",
   "execution_count": null,
   "metadata": {},
   "outputs": [],
   "source": [
    "# CHUNK 61: Converting string to date\n",
    "\n",
    "Date1 = \"10/01/2021\"\n",
    "Date2 = \"20211001\"\n",
    "dt.datetime.strptime(Date1, \"%m/%d/%Y\")\n",
    "dt.datetime.strptime(Date2, \"%Y%m%d\")\n",
    "Date_Time = \"10-01-2021 5:30:41\"\n",
    "dt.datetime.strptime(Date_Time, \"%m-%d-%Y %H:%M:%S\")"
   ]
  },
  {
   "cell_type": "code",
   "execution_count": null,
   "metadata": {},
   "outputs": [],
   "source": [
    "\n",
    "# CHUNK 62: Calculating time differences\n",
    "\n",
    "# Time differences\n",
    "dt.date.today() - dt.date(2021,1,1)\n",
    "dt.datetime.now() - dt.datetime(2021,1,1,9,30,55)\n",
    "Time1 = dt.datetime.strptime(\"12:30:09\",\"%H:%M:%S\")\n",
    "Time2 =dt.datetime.strptime(\"12:35:30\",\"%H:%M:%S\")\n",
    "Time2 - Time1"
   ]
  },
  {
   "cell_type": "code",
   "execution_count": null,
   "metadata": {},
   "outputs": [],
   "source": [
    "# CHUNK 63: Extract day/month/year from a date variable\n",
    "\n",
    "my_date = dt.datetime.strptime(\"07102003\", \"%m%d%Y\")\n",
    "my_date.strftime(\"%m\") # Extracts the month as a number\n",
    "my_date.strftime(\"%B\") # Extracts the name of the month\n",
    "my_date.strftime(\"%Y\") # Extracts the year\n",
    "my_date.strftime(\"%d\") # Extracts the day of the month\n",
    "my_date.strftime(\"%w\") # Extracts the day of the week as a number, Sunday is 0\n",
    "my_date.strftime(\"%A\") # Extracts the day of week as a name"
   ]
  },
  {
   "cell_type": "code",
   "execution_count": null,
   "metadata": {},
   "outputs": [],
   "source": [
    "# CHUNK 64: Exercise 2.3.13: Convert the Year, Month, and Day variables in the flight data to a single date variable\n",
    "\n",
    "# Reload the flights data if needed\n",
    "# flights = pd.read_csv(\"flights.csv\")"
   ]
  },
  {
   "cell_type": "code",
   "execution_count": null,
   "metadata": {},
   "outputs": [],
   "source": [
    "# CHUNK 65: Exercise 2.3.13: Solution\n",
    "\n",
    "# Reload the flights data if needed\n",
    "# flights = pd.read_csv(\"flights.csv\")\n",
    "# flights.assign(Date = dt.date(year = flights.year, month = flights.month, day = flights.day)) # This seems logical but doesn't work. R can work with vectors, so a command like this can process all the rows at once. Python can only do one row at a time and so a loop is needed here.\n",
    "\n",
    "Date = [dt.date(year = flights.year[i], month = flights.month[i], day = flights.day[i]) for i in range(flights.shape[0])]\n",
    "flights[\"Date\"] = Date\n",
    "del Date\n",
    "flights"
   ]
  },
  {
   "cell_type": "code",
   "execution_count": null,
   "metadata": {},
   "outputs": [],
   "source": [
    "\n",
    "# CHUNK 66: Create ordered and unordered factor variables\n",
    "\n",
    "# Create an ordered factor variable\n",
    "fct_ordered = pd.Categorical([\"good\",\"good\",\"poor\",\"okay\"],ordered=True,categories=[\"poor\",\"okay\",\"good\"])\n",
    "fct_ordered\n",
    "\n",
    "# Create an unordered factor variable\n",
    "fct_unordered = pd.Categorical([\"good\",\"good\",\"poor\",\"okay\"],ordered=False)\n",
    "fct_unordered\n",
    "\n",
    "# Convert an ordered factor variable to unordered\n",
    "fct_unordered_2 = pd.Categorical(fct_unordered,ordered=False)\n",
    "fct_unordered_2"
   ]
  },
  {
   "cell_type": "code",
   "execution_count": null,
   "metadata": {},
   "outputs": [],
   "source": [
    "# CHUNK 67: Factor recoding and combining\n",
    "\n",
    "# Survey data set\n",
    "survey = pd.DataFrame({\"Individual\":[1,2,3,4,5],\"Sex\":pd.Categorical([\"Male\",\"male\",\"fem.\",\"Female\",\"M\"]),\"Answer\": pd.Categorical([\"Y\",\"Y\",\"N\",\"Yes\",\"n\"])})\n",
    "survey"
   ]
  },
  {
   "cell_type": "code",
   "execution_count": null,
   "metadata": {},
   "outputs": [],
   "source": [
    "# CHUNK 68: Change factors to upper case\n",
    "\n",
    "# Recoding\n",
    "survey.assign(Sex = survey.Sex.str.upper(),Answer = survey.Answer.str.upper())"
   ]
  },
  {
   "cell_type": "code",
   "execution_count": null,
   "metadata": {},
   "outputs": [],
   "source": [
    "# CHUNK 69: Change factors to upper case and retain only first letter\n",
    "\n",
    "survey_one = survey.assign(Sex = pd.Categorical(survey.Sex.str.upper().str[0]),Answer = pd.Categorical(survey.Answer.str.upper().str[0]))\n",
    "survey_one\n",
    "survey_one[\"Sex\"].cat.categories\n",
    "survey_one[\"Answer\"].cat.categories"
   ]
  },
  {
   "cell_type": "code",
   "execution_count": null,
   "metadata": {},
   "outputs": [],
   "source": [
    "# CHUNK 70: Change factor values with direct recoding\n",
    "\n",
    "# Recoding directly\n",
    "survey_direct = survey\n",
    "survey_direct[\"Sex\"] = pd.Categorical(survey_direct[\"Sex\"].map({\"M\":\"Male\",\"male\":\"Male\",\"fem.\":\"Female\",\"Male\":\"Male\",\"Female\":\"Female\"}))\n",
    "survey_direct\n",
    "survey_direct[\"Sex\"].cat.categories"
   ]
  },
  {
   "cell_type": "code",
   "execution_count": null,
   "metadata": {},
   "outputs": [],
   "source": [
    "# CHUNK 71: Combining factors\n",
    "\n",
    "# Factor combining\n",
    "small_levels = {\"AS\",\"F9\",\"HA\",\"OO\",\"YV\"}\n",
    "mask = flights.carrier.isin(small_levels)\n",
    "flights_comb = flights\n",
    "flights_comb.carrier[mask] = \"Other\"\n",
    "flights_comb.carrier = pd.Categorical(flights_comb.carrier)\n",
    "flights_comb[\"carrier\"].cat.categories\n",
    "flights_comb.carrier.value_counts()"
   ]
  },
  {
   "cell_type": "code",
   "execution_count": null,
   "metadata": {},
   "outputs": [],
   "source": [
    "\n",
    "# CHUNK 72: Converting Boolean to integer\n",
    "\n",
    "# Convert Boolean to integer\n",
    "import numpy as np\n",
    "security = pd.DataFrame({\"Camera\":[\"Lobby\",\"Main Floor\",\"Back Door\",\"Front Door\",\"Offices\"],\"Total Hours Recorded\":[51,59,-1,22,27],\"Incidents\":[2,1,0,0,np.nan]})\n",
    "security.iloc[:,1] > 30 # To create a Boolean variable for this example\n",
    "(security.iloc[:,1] > 30) * 1 # To convert it to 0 and 1"
   ]
  },
  {
   "cell_type": "code",
   "execution_count": null,
   "metadata": {},
   "outputs": [],
   "source": [
    "# CHUNK 73: Making a factor variable numeric\n",
    "\n",
    "my_factor = pd.Series([15,5,10,15,15,15,10], dtype=\"category\")\n",
    "pd.Series(my_factor,dtype=\"int\")"
   ]
  },
  {
   "cell_type": "code",
   "execution_count": null,
   "metadata": {},
   "outputs": [],
   "source": [
    "# CHUNK 74: Exercise 2.3.14\n",
    "\n",
    "Auto_Names = [\"symboling\", \"normalized_losses\", \"make\", \"fuel_type\",\"aspiration\", \"num_doors\", \"body_style\", \"drive_wheels\",\"engine_location\", \"wheel_base\", \"length\", \"width\", \"height\", \"curb_weight\", \"engine_type\",\"num_cylinders\", \"engine_size\", \"fuel_system\", \"bore\", \"stroke\", \"compression_ratio\", \"horsepower\", \"peak_rpm\", \"city_mpg\", \"highway_mpg\", \"price\"]\n",
    "\n",
    "import pandas as pd\n",
    "auto = pd.read_csv(\"automobile.csv\",names = Auto_Names)\n",
    "\n",
    "# 1 Replace those “?” values with NAs\n",
    "\n",
    "\n",
    "# 2 Remove all records with missing values\n",
    "\n",
    "\n",
    "# 3 Rename the variable drive_wheels to drive_type\n",
    "\n",
    "\n",
    "# 4 Recode all the variables in the new variable drive_type. Make “rwd” into “rear”, “fwd” into “front”, and “4wd” into “four”\n",
    "\n",
    "\n",
    "# 5 Change the values in the variable engine_location so that only the first two letters show and make those two letters all uppercase\n",
    "\n",
    "\n",
    "# 6 There are some numeric columns that had “?”, and as a result, they were marked as strings or characters. Convert those variables to numeric\n",
    "\n",
    "\n",
    "# 7 Combine factors in the body_style variable so that there are only three factors: “sedan”, “hatchback”, and “Other”"
   ]
  },
  {
   "cell_type": "code",
   "execution_count": null,
   "metadata": {},
   "outputs": [],
   "source": [
    "\n",
    "# # CHUNK 75: Exercise 2.3.14: Solution\n",
    "\n",
    "Auto_Names = [\"symboling\", \"normalized_losses\", \"make\", \"fuel_type\",\"aspiration\", \"num_doors\", \"body_style\", \"drive_wheels\",\"engine_location\", \"wheel_base\", \"length\", \"width\", \"height\", \"curb_weight\", \"engine_type\",\"num_cylinders\", \"engine_size\", \"fuel_system\", \"bore\", \"stroke\", \"compression_ratio\", \"horsepower\", \"peak_rpm\", \"city_mpg\", \"highway_mpg\", \"price\"]\n",
    "\n",
    "import pandas as pd\n",
    "auto = pd.read_csv(\"automobile.csv\",names = Auto_Names)\n",
    "\n",
    "# 1 Use the principles of data manipulation to replace those “?” values with NAs\n",
    "auto = auto.replace(\"?\",np.nan)\n",
    "\n",
    "# 2 Remove all records with missing values\n",
    "auto = auto.dropna()\n",
    "\n",
    "# 3 Rename the variable drive_wheels to drive_type. \n",
    "auto = auto.rename(columns={\"drive_wheels\":\"drive_type\"})\n",
    "\n",
    "# 4 Recode all the variables in the new variable drive_type. Make “rwd” into “rear”, “fwd” into “front”, and “4wd” into “four”. \n",
    "auto[\"drive_type\"] =  auto[\"drive_type\"].map({\"rwd\":\"rear\",\"fwd\":\"front\",\"4wd\":\"four\"})\n",
    "\n",
    "# 5 Change the values in the variable engine_location  so that only the first two letters show and make those two letters all uppercase. \n",
    "auto = auto.assign(engine_location=auto.engine_location.str.upper().str[0:2])\n",
    "\n",
    "# 6 There are some numeric columns that have “?”, and as a result, they were marked as strings or characters. Convert those variables to numeric. \n",
    "auto = auto.assign(normalized_losses = [float(x) for x in auto.normalized_losses],stroke = [float(x) for x in auto.stroke],bore = [float(x) for x in auto.bore],price = [float(x) for x in auto.price])\n",
    "\n",
    "# 7 Combine factors in the body_style variable so that there are only three factors: “sedan”, “hatchback”, and “Other”\n",
    "big_levels = [\"sedan\",\"hatchback\"]\n",
    "mask = auto.body_style.isin(big_levels)\n",
    "auto.body_style[-mask] = \"Other\"\n",
    "\n",
    "pd.set_option('max_columns', None) # This will display all the columns\n",
    "auto\n"
   ]
  }
 ],
 "metadata": {
  "kernelspec": {
   "display_name": "SOAModule_Notes",
   "language": "python",
   "name": "python3"
  },
  "language_info": {
   "codemirror_mode": {
    "name": "ipython",
    "version": 3
   },
   "file_extension": ".py",
   "mimetype": "text/x-python",
   "name": "python",
   "nbconvert_exporter": "python",
   "pygments_lexer": "ipython3",
   "version": "3.9.6"
  },
  "orig_nbformat": 4,
  "vscode": {
   "interpreter": {
    "hash": "e17914ab529f92bc20a1469aaf6b9ace0664154d3788c29b41b731a15dbe8776"
   }
  }
 },
 "nbformat": 4,
 "nbformat_minor": 2
}

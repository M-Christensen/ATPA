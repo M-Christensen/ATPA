{
 "cells": [
  {
   "cell_type": "markdown",
   "metadata": {},
   "source": [
    "### 5.27 Grid Search"
   ]
  },
  {
   "cell_type": "code",
   "execution_count": 40,
   "metadata": {},
   "outputs": [
    {
     "name": "stdout",
     "output_type": "stream",
     "text": [
      "<class 'numpy.ndarray'> <class 'numpy.ndarray'>\n"
     ]
    },
    {
     "data": {
      "text/plain": [
       "((398, 30), (171, 30))"
      ]
     },
     "execution_count": 40,
     "metadata": {},
     "output_type": "execute_result"
    }
   ],
   "source": [
    "import numpy as np\n",
    "import pandas as pd\n",
    "import matplotlib.pyplot as plt\n",
    "from scipy import stats\n",
    "\n",
    "from sklearn.datasets import load_breast_cancer\n",
    "from sklearn.ensemble import GradientBoostingClassifier\n",
    "from sklearn.svm import SVC\n",
    "from sklearn.metrics import (roc_auc_score,\n",
    "                             accuracy_score)\n",
    "\n",
    "from sklearn.model_selection import (\n",
    "    GridSearchCV,\n",
    "    RandomizedSearchCV,\n",
    "    train_test_split\n",
    ")\n",
    "\n",
    "# load data\n",
    "breast_cancer_X, breast_cancer_y = load_breast_cancer(return_X_y = True)\n",
    "X = pd.DataFrame(breast_cancer_X)\n",
    "y = pd.Series(breast_cancer_y).map({0:1, 1:0})\n",
    "\n",
    "# data seems a bit imbalanced\n",
    "print(type(breast_cancer_X), type(breast_cancer_y))\n",
    "y.value_counts() / len (y)\n",
    "\n",
    "# split into training/testing\n",
    "X_train, X_test, y_train, y_test = train_test_split(\n",
    "    X, y, test_size = 0.3, random_state = 0\n",
    ")\n",
    "X_train.shape, X_test.shape\n",
    "\n"
   ]
  },
  {
   "cell_type": "code",
   "execution_count": 6,
   "metadata": {},
   "outputs": [],
   "source": [
    "## Performing Cross-Validation\n",
    "# build a model\n",
    "gbm = GradientBoostingClassifier(random_state=0)\n",
    "\n",
    "# initial grid\n",
    "param_grid = dict(n_estimators = [10, 25]\n",
    "                 ,min_samples_split = [0.1, 0.3]\n",
    "                 ,max_depth = [2,3])\n",
    "\n",
    "# the grid will search 8 different models (product of each length)"
   ]
  },
  {
   "cell_type": "code",
   "execution_count": 7,
   "metadata": {},
   "outputs": [
    {
     "data": {
      "text/plain": [
       "GridSearchCV(cv=5, estimator=GradientBoostingClassifier(random_state=0),\n",
       "             param_grid={'max_depth': [2, 3], 'min_samples_split': [0.1, 0.3],\n",
       "                         'n_estimators': [10, 25]},\n",
       "             scoring='roc_auc')"
      ]
     },
     "execution_count": 7,
     "metadata": {},
     "output_type": "execute_result"
    }
   ],
   "source": [
    "search = GridSearchCV(gbm, param_grid, scoring = 'roc_auc', cv = 5, refit = True)\n",
    "\n",
    "# find the best hyperparameters\n",
    "search.fit(X_train, y_train)"
   ]
  },
  {
   "cell_type": "code",
   "execution_count": 9,
   "metadata": {},
   "outputs": [
    {
     "data": {
      "text/plain": [
       "{'max_depth': 2, 'min_samples_split': 0.3, 'n_estimators': 25}"
      ]
     },
     "execution_count": 9,
     "metadata": {},
     "output_type": "execute_result"
    }
   ],
   "source": [
    "search.best_params_"
   ]
  },
  {
   "cell_type": "code",
   "execution_count": 10,
   "metadata": {},
   "outputs": [
    {
     "data": {
      "text/plain": [
       "GridSearchCV(cv=5, estimator=GradientBoostingClassifier(random_state=0),\n",
       "             param_grid={'max_depth': [2, 3], 'min_samples_split': [0.1, 0.3],\n",
       "                         'n_estimators': [10, 25]},\n",
       "             scoring='roc_auc')"
      ]
     },
     "execution_count": 10,
     "metadata": {},
     "output_type": "execute_result"
    }
   ],
   "source": [
    "search"
   ]
  },
  {
   "cell_type": "code",
   "execution_count": 16,
   "metadata": {},
   "outputs": [
    {
     "data": {
      "text/plain": [
       "(8, 16)"
      ]
     },
     "execution_count": 16,
     "metadata": {},
     "output_type": "execute_result"
    }
   ],
   "source": [
    "results = pd.DataFrame(search.cv_results_)\n",
    "\n",
    "results.shape"
   ]
  },
  {
   "cell_type": "code",
   "execution_count": 18,
   "metadata": {},
   "outputs": [
    {
     "data": {
      "text/html": [
       "<div>\n",
       "<style scoped>\n",
       "    .dataframe tbody tr th:only-of-type {\n",
       "        vertical-align: middle;\n",
       "    }\n",
       "\n",
       "    .dataframe tbody tr th {\n",
       "        vertical-align: top;\n",
       "    }\n",
       "\n",
       "    .dataframe thead th {\n",
       "        text-align: right;\n",
       "    }\n",
       "</style>\n",
       "<table border=\"1\" class=\"dataframe\">\n",
       "  <thead>\n",
       "    <tr style=\"text-align: right;\">\n",
       "      <th></th>\n",
       "      <th>mean_fit_time</th>\n",
       "      <th>std_fit_time</th>\n",
       "      <th>mean_score_time</th>\n",
       "      <th>std_score_time</th>\n",
       "      <th>param_max_depth</th>\n",
       "      <th>param_min_samples_split</th>\n",
       "      <th>param_n_estimators</th>\n",
       "      <th>params</th>\n",
       "      <th>split0_test_score</th>\n",
       "      <th>split1_test_score</th>\n",
       "      <th>split2_test_score</th>\n",
       "      <th>split3_test_score</th>\n",
       "      <th>split4_test_score</th>\n",
       "      <th>mean_test_score</th>\n",
       "      <th>std_test_score</th>\n",
       "      <th>rank_test_score</th>\n",
       "    </tr>\n",
       "  </thead>\n",
       "  <tbody>\n",
       "    <tr>\n",
       "      <th>0</th>\n",
       "      <td>0.012631</td>\n",
       "      <td>0.001769</td>\n",
       "      <td>0.002049</td>\n",
       "      <td>0.000739</td>\n",
       "      <td>2</td>\n",
       "      <td>0.1</td>\n",
       "      <td>10</td>\n",
       "      <td>{'max_depth': 2, 'min_samples_split': 0.1, 'n_...</td>\n",
       "      <td>0.991667</td>\n",
       "      <td>0.962667</td>\n",
       "      <td>0.972000</td>\n",
       "      <td>0.972759</td>\n",
       "      <td>0.956463</td>\n",
       "      <td>0.971111</td>\n",
       "      <td>0.011933</td>\n",
       "      <td>7</td>\n",
       "    </tr>\n",
       "    <tr>\n",
       "      <th>1</th>\n",
       "      <td>0.026420</td>\n",
       "      <td>0.000507</td>\n",
       "      <td>0.001630</td>\n",
       "      <td>0.000508</td>\n",
       "      <td>2</td>\n",
       "      <td>0.1</td>\n",
       "      <td>25</td>\n",
       "      <td>{'max_depth': 2, 'min_samples_split': 0.1, 'n_...</td>\n",
       "      <td>0.996000</td>\n",
       "      <td>0.975000</td>\n",
       "      <td>0.985333</td>\n",
       "      <td>0.991034</td>\n",
       "      <td>0.980272</td>\n",
       "      <td>0.985528</td>\n",
       "      <td>0.007463</td>\n",
       "      <td>2</td>\n",
       "    </tr>\n",
       "    <tr>\n",
       "      <th>2</th>\n",
       "      <td>0.011616</td>\n",
       "      <td>0.000505</td>\n",
       "      <td>0.001378</td>\n",
       "      <td>0.000464</td>\n",
       "      <td>2</td>\n",
       "      <td>0.3</td>\n",
       "      <td>10</td>\n",
       "      <td>{'max_depth': 2, 'min_samples_split': 0.3, 'n_...</td>\n",
       "      <td>0.991667</td>\n",
       "      <td>0.962667</td>\n",
       "      <td>0.972000</td>\n",
       "      <td>0.972759</td>\n",
       "      <td>0.956463</td>\n",
       "      <td>0.971111</td>\n",
       "      <td>0.011933</td>\n",
       "      <td>7</td>\n",
       "    </tr>\n",
       "    <tr>\n",
       "      <th>3</th>\n",
       "      <td>0.027172</td>\n",
       "      <td>0.000362</td>\n",
       "      <td>0.001821</td>\n",
       "      <td>0.000415</td>\n",
       "      <td>2</td>\n",
       "      <td>0.3</td>\n",
       "      <td>25</td>\n",
       "      <td>{'max_depth': 2, 'min_samples_split': 0.3, 'n_...</td>\n",
       "      <td>0.996667</td>\n",
       "      <td>0.975000</td>\n",
       "      <td>0.985333</td>\n",
       "      <td>0.991034</td>\n",
       "      <td>0.980612</td>\n",
       "      <td>0.985729</td>\n",
       "      <td>0.007606</td>\n",
       "      <td>1</td>\n",
       "    </tr>\n",
       "    <tr>\n",
       "      <th>4</th>\n",
       "      <td>0.015362</td>\n",
       "      <td>0.000554</td>\n",
       "      <td>0.001561</td>\n",
       "      <td>0.000692</td>\n",
       "      <td>3</td>\n",
       "      <td>0.1</td>\n",
       "      <td>10</td>\n",
       "      <td>{'max_depth': 3, 'min_samples_split': 0.1, 'n_...</td>\n",
       "      <td>0.996000</td>\n",
       "      <td>0.968000</td>\n",
       "      <td>0.973667</td>\n",
       "      <td>0.982759</td>\n",
       "      <td>0.970068</td>\n",
       "      <td>0.978099</td>\n",
       "      <td>0.010279</td>\n",
       "      <td>6</td>\n",
       "    </tr>\n",
       "  </tbody>\n",
       "</table>\n",
       "</div>"
      ],
      "text/plain": [
       "   mean_fit_time  std_fit_time  mean_score_time  std_score_time  \\\n",
       "0       0.012631      0.001769         0.002049        0.000739   \n",
       "1       0.026420      0.000507         0.001630        0.000508   \n",
       "2       0.011616      0.000505         0.001378        0.000464   \n",
       "3       0.027172      0.000362         0.001821        0.000415   \n",
       "4       0.015362      0.000554         0.001561        0.000692   \n",
       "\n",
       "  param_max_depth param_min_samples_split param_n_estimators  \\\n",
       "0               2                     0.1                 10   \n",
       "1               2                     0.1                 25   \n",
       "2               2                     0.3                 10   \n",
       "3               2                     0.3                 25   \n",
       "4               3                     0.1                 10   \n",
       "\n",
       "                                              params  split0_test_score  \\\n",
       "0  {'max_depth': 2, 'min_samples_split': 0.1, 'n_...           0.991667   \n",
       "1  {'max_depth': 2, 'min_samples_split': 0.1, 'n_...           0.996000   \n",
       "2  {'max_depth': 2, 'min_samples_split': 0.3, 'n_...           0.991667   \n",
       "3  {'max_depth': 2, 'min_samples_split': 0.3, 'n_...           0.996667   \n",
       "4  {'max_depth': 3, 'min_samples_split': 0.1, 'n_...           0.996000   \n",
       "\n",
       "   split1_test_score  split2_test_score  split3_test_score  split4_test_score  \\\n",
       "0           0.962667           0.972000           0.972759           0.956463   \n",
       "1           0.975000           0.985333           0.991034           0.980272   \n",
       "2           0.962667           0.972000           0.972759           0.956463   \n",
       "3           0.975000           0.985333           0.991034           0.980612   \n",
       "4           0.968000           0.973667           0.982759           0.970068   \n",
       "\n",
       "   mean_test_score  std_test_score  rank_test_score  \n",
       "0         0.971111        0.011933                7  \n",
       "1         0.985528        0.007463                2  \n",
       "2         0.971111        0.011933                7  \n",
       "3         0.985729        0.007606                1  \n",
       "4         0.978099        0.010279                6  "
      ]
     },
     "execution_count": 18,
     "metadata": {},
     "output_type": "execute_result"
    }
   ],
   "source": [
    "results.head()"
   ]
  },
  {
   "cell_type": "code",
   "execution_count": 21,
   "metadata": {},
   "outputs": [
    {
     "data": {
      "text/html": [
       "<div>\n",
       "<style scoped>\n",
       "    .dataframe tbody tr th:only-of-type {\n",
       "        vertical-align: middle;\n",
       "    }\n",
       "\n",
       "    .dataframe tbody tr th {\n",
       "        vertical-align: top;\n",
       "    }\n",
       "\n",
       "    .dataframe thead th {\n",
       "        text-align: right;\n",
       "    }\n",
       "</style>\n",
       "<table border=\"1\" class=\"dataframe\">\n",
       "  <thead>\n",
       "    <tr style=\"text-align: right;\">\n",
       "      <th></th>\n",
       "      <th>param_max_depth</th>\n",
       "      <th>param_min_samples_split</th>\n",
       "      <th>param_n_estimators</th>\n",
       "      <th>mean_test_score</th>\n",
       "      <th>std_test_score</th>\n",
       "    </tr>\n",
       "  </thead>\n",
       "  <tbody>\n",
       "    <tr>\n",
       "      <th>0</th>\n",
       "      <td>2</td>\n",
       "      <td>0.3</td>\n",
       "      <td>25</td>\n",
       "      <td>0.985729</td>\n",
       "      <td>0.007606</td>\n",
       "    </tr>\n",
       "    <tr>\n",
       "      <th>1</th>\n",
       "      <td>2</td>\n",
       "      <td>0.1</td>\n",
       "      <td>25</td>\n",
       "      <td>0.985528</td>\n",
       "      <td>0.007463</td>\n",
       "    </tr>\n",
       "    <tr>\n",
       "      <th>2</th>\n",
       "      <td>3</td>\n",
       "      <td>0.3</td>\n",
       "      <td>25</td>\n",
       "      <td>0.984782</td>\n",
       "      <td>0.009666</td>\n",
       "    </tr>\n",
       "    <tr>\n",
       "      <th>3</th>\n",
       "      <td>3</td>\n",
       "      <td>0.1</td>\n",
       "      <td>25</td>\n",
       "      <td>0.984508</td>\n",
       "      <td>0.009411</td>\n",
       "    </tr>\n",
       "    <tr>\n",
       "      <th>4</th>\n",
       "      <td>3</td>\n",
       "      <td>0.3</td>\n",
       "      <td>10</td>\n",
       "      <td>0.978719</td>\n",
       "      <td>0.010629</td>\n",
       "    </tr>\n",
       "    <tr>\n",
       "      <th>5</th>\n",
       "      <td>3</td>\n",
       "      <td>0.1</td>\n",
       "      <td>10</td>\n",
       "      <td>0.978099</td>\n",
       "      <td>0.010279</td>\n",
       "    </tr>\n",
       "    <tr>\n",
       "      <th>6</th>\n",
       "      <td>2</td>\n",
       "      <td>0.1</td>\n",
       "      <td>10</td>\n",
       "      <td>0.971111</td>\n",
       "      <td>0.011933</td>\n",
       "    </tr>\n",
       "    <tr>\n",
       "      <th>7</th>\n",
       "      <td>2</td>\n",
       "      <td>0.3</td>\n",
       "      <td>10</td>\n",
       "      <td>0.971111</td>\n",
       "      <td>0.011933</td>\n",
       "    </tr>\n",
       "  </tbody>\n",
       "</table>\n",
       "</div>"
      ],
      "text/plain": [
       "  param_max_depth param_min_samples_split param_n_estimators  mean_test_score  \\\n",
       "0               2                     0.3                 25         0.985729   \n",
       "1               2                     0.1                 25         0.985528   \n",
       "2               3                     0.3                 25         0.984782   \n",
       "3               3                     0.1                 25         0.984508   \n",
       "4               3                     0.3                 10         0.978719   \n",
       "5               3                     0.1                 10         0.978099   \n",
       "6               2                     0.1                 10         0.971111   \n",
       "7               2                     0.3                 10         0.971111   \n",
       "\n",
       "   std_test_score  \n",
       "0        0.007606  \n",
       "1        0.007463  \n",
       "2        0.009666  \n",
       "3        0.009411  \n",
       "4        0.010629  \n",
       "5        0.010279  \n",
       "6        0.011933  \n",
       "7        0.011933  "
      ]
     },
     "execution_count": 21,
     "metadata": {},
     "output_type": "execute_result"
    }
   ],
   "source": [
    "results.sort_values(by = 'mean_test_score', ascending = False, inplace = True)\n",
    "results.reset_index(drop=True, inplace=True)\n",
    "\n",
    "results.loc[:, ['param_max_depth', 'param_min_samples_split', 'param_n_estimators', 'mean_test_score', 'std_test_score']]"
   ]
  },
  {
   "cell_type": "code",
   "execution_count": 25,
   "metadata": {},
   "outputs": [
    {
     "data": {
      "image/png": "[encoded data removed]",
      "text/plain": [
       "<Figure size 432x288 with 1 Axes>"
      ]
     },
     "metadata": {
      "needs_background": "light"
     },
     "output_type": "display_data"
    }
   ],
   "source": [
    "results.mean_test_score.plot(yerr=[results.std_test_score, results.std_test_score], subplots=True)\n",
    "plt.ylabel('Mean Test Score')\n",
    "plt.xlabel('Hyperparameter Combinations');"
   ]
  },
  {
   "cell_type": "code",
   "execution_count": 27,
   "metadata": {},
   "outputs": [
    {
     "name": "stdout",
     "output_type": "stream",
     "text": [
      "Train ROC AUC: 0.9976280962777284,     Test ROC AUC: 0.9923574368018812\n"
     ]
    }
   ],
   "source": [
    "X_train_preds = search.predict_proba(X_train)[:,1]\n",
    "X_test_preds = search.predict_proba(X_test)[:,1]\n",
    "\n",
    "print('Train ROC AUC: {train},     Test ROC AUC: {test}'.format(train=roc_auc_score(y_train, X_train_preds)\n",
    "                                                               ,test=roc_auc_score(y_test, X_test_preds)))"
   ]
  },
  {
   "cell_type": "code",
   "execution_count": null,
   "metadata": {},
   "outputs": [],
   "source": []
  },
  {
   "cell_type": "markdown",
   "metadata": {},
   "source": [
    "### 4.31 Grid Search with Different Hyperparameter Spaces"
   ]
  },
  {
   "cell_type": "markdown",
   "metadata": {},
   "source": [
    "Some hyperparameters settings allow only certain hyperparameter spaces of other hyperparameters (for example, certain Support Vector Machine kernels use the 'gamma' HP - others do not"
   ]
  },
  {
   "cell_type": "code",
   "execution_count": 32,
   "metadata": {},
   "outputs": [],
   "source": [
    "svm = SVC(random_state = 0)\n",
    "\n",
    "# define a HP grid with multiple settings\n",
    "param_grid = [\n",
    "    {'C': [1, 10, 100], 'kernel': ['linear']},\n",
    "    {'C': [1, 10, 100], 'gamma': [0.001, 0.005], 'kernel': ['rbf']}\n",
    "]"
   ]
  },
  {
   "cell_type": "code",
   "execution_count": 33,
   "metadata": {},
   "outputs": [
    {
     "data": {
      "text/plain": [
       "GridSearchCV(cv=5, estimator=SVC(random_state=0),\n",
       "             param_grid=[{'C': [1, 10, 100], 'kernel': ['linear']},\n",
       "                         {'C': [1, 10, 100], 'gamma': [0.001, 0.005],\n",
       "                          'kernel': ['rbf']}],\n",
       "             scoring='accuracy')"
      ]
     },
     "execution_count": 33,
     "metadata": {},
     "output_type": "execute_result"
    }
   ],
   "source": [
    "search = GridSearchCV(svm, param_grid, scoring='accuracy', cv=5, refit=True)\n",
    "\n",
    "search.fit(X_train, y_train)"
   ]
  },
  {
   "cell_type": "code",
   "execution_count": 34,
   "metadata": {},
   "outputs": [
    {
     "data": {
      "text/plain": [
       "{'C': 1, 'kernel': 'linear'}"
      ]
     },
     "execution_count": 34,
     "metadata": {},
     "output_type": "execute_result"
    }
   ],
   "source": [
    "search.best_params_"
   ]
  },
  {
   "cell_type": "code",
   "execution_count": 36,
   "metadata": {},
   "outputs": [
    {
     "data": {
      "text/html": [
       "<div>\n",
       "<style scoped>\n",
       "    .dataframe tbody tr th:only-of-type {\n",
       "        vertical-align: middle;\n",
       "    }\n",
       "\n",
       "    .dataframe tbody tr th {\n",
       "        vertical-align: top;\n",
       "    }\n",
       "\n",
       "    .dataframe thead th {\n",
       "        text-align: right;\n",
       "    }\n",
       "</style>\n",
       "<table border=\"1\" class=\"dataframe\">\n",
       "  <thead>\n",
       "    <tr style=\"text-align: right;\">\n",
       "      <th></th>\n",
       "      <th>mean_fit_time</th>\n",
       "      <th>std_fit_time</th>\n",
       "      <th>mean_score_time</th>\n",
       "      <th>std_score_time</th>\n",
       "      <th>param_C</th>\n",
       "      <th>param_kernel</th>\n",
       "      <th>param_gamma</th>\n",
       "      <th>params</th>\n",
       "      <th>split0_test_score</th>\n",
       "      <th>split1_test_score</th>\n",
       "      <th>split2_test_score</th>\n",
       "      <th>split3_test_score</th>\n",
       "      <th>split4_test_score</th>\n",
       "      <th>mean_test_score</th>\n",
       "      <th>std_test_score</th>\n",
       "      <th>rank_test_score</th>\n",
       "    </tr>\n",
       "  </thead>\n",
       "  <tbody>\n",
       "    <tr>\n",
       "      <th>0</th>\n",
       "      <td>0.507699</td>\n",
       "      <td>0.192642</td>\n",
       "      <td>0.001404</td>\n",
       "      <td>0.000489</td>\n",
       "      <td>1</td>\n",
       "      <td>linear</td>\n",
       "      <td>NaN</td>\n",
       "      <td>{'C': 1, 'kernel': 'linear'}</td>\n",
       "      <td>0.9875</td>\n",
       "      <td>0.9125</td>\n",
       "      <td>0.9375</td>\n",
       "      <td>0.962025</td>\n",
       "      <td>0.974684</td>\n",
       "      <td>0.954842</td>\n",
       "      <td>0.026853</td>\n",
       "      <td>1</td>\n",
       "    </tr>\n",
       "    <tr>\n",
       "      <th>1</th>\n",
       "      <td>2.347901</td>\n",
       "      <td>1.662727</td>\n",
       "      <td>0.001398</td>\n",
       "      <td>0.000487</td>\n",
       "      <td>10</td>\n",
       "      <td>linear</td>\n",
       "      <td>NaN</td>\n",
       "      <td>{'C': 10, 'kernel': 'linear'}</td>\n",
       "      <td>0.9875</td>\n",
       "      <td>0.9000</td>\n",
       "      <td>0.9375</td>\n",
       "      <td>0.949367</td>\n",
       "      <td>0.962025</td>\n",
       "      <td>0.947278</td>\n",
       "      <td>0.028881</td>\n",
       "      <td>3</td>\n",
       "    </tr>\n",
       "    <tr>\n",
       "      <th>2</th>\n",
       "      <td>5.573801</td>\n",
       "      <td>2.614192</td>\n",
       "      <td>0.001625</td>\n",
       "      <td>0.000784</td>\n",
       "      <td>100</td>\n",
       "      <td>linear</td>\n",
       "      <td>NaN</td>\n",
       "      <td>{'C': 100, 'kernel': 'linear'}</td>\n",
       "      <td>0.9875</td>\n",
       "      <td>0.9125</td>\n",
       "      <td>0.9375</td>\n",
       "      <td>0.962025</td>\n",
       "      <td>0.962025</td>\n",
       "      <td>0.952310</td>\n",
       "      <td>0.025422</td>\n",
       "      <td>2</td>\n",
       "    </tr>\n",
       "    <tr>\n",
       "      <th>3</th>\n",
       "      <td>0.007770</td>\n",
       "      <td>0.000727</td>\n",
       "      <td>0.002166</td>\n",
       "      <td>0.000396</td>\n",
       "      <td>1</td>\n",
       "      <td>rbf</td>\n",
       "      <td>0.001</td>\n",
       "      <td>{'C': 1, 'gamma': 0.001, 'kernel': 'rbf'}</td>\n",
       "      <td>0.9500</td>\n",
       "      <td>0.8875</td>\n",
       "      <td>0.9250</td>\n",
       "      <td>0.898734</td>\n",
       "      <td>0.898734</td>\n",
       "      <td>0.911994</td>\n",
       "      <td>0.022650</td>\n",
       "      <td>6</td>\n",
       "    </tr>\n",
       "    <tr>\n",
       "      <th>4</th>\n",
       "      <td>0.010002</td>\n",
       "      <td>0.000686</td>\n",
       "      <td>0.002601</td>\n",
       "      <td>0.000490</td>\n",
       "      <td>1</td>\n",
       "      <td>rbf</td>\n",
       "      <td>0.005</td>\n",
       "      <td>{'C': 1, 'gamma': 0.005, 'kernel': 'rbf'}</td>\n",
       "      <td>0.7250</td>\n",
       "      <td>0.8625</td>\n",
       "      <td>0.9000</td>\n",
       "      <td>0.911392</td>\n",
       "      <td>0.860759</td>\n",
       "      <td>0.851930</td>\n",
       "      <td>0.066554</td>\n",
       "      <td>9</td>\n",
       "    </tr>\n",
       "  </tbody>\n",
       "</table>\n",
       "</div>"
      ],
      "text/plain": [
       "   mean_fit_time  std_fit_time  mean_score_time  std_score_time param_C  \\\n",
       "0       0.507699      0.192642         0.001404        0.000489       1   \n",
       "1       2.347901      1.662727         0.001398        0.000487      10   \n",
       "2       5.573801      2.614192         0.001625        0.000784     100   \n",
       "3       0.007770      0.000727         0.002166        0.000396       1   \n",
       "4       0.010002      0.000686         0.002601        0.000490       1   \n",
       "\n",
       "  param_kernel param_gamma                                     params  \\\n",
       "0       linear         NaN               {'C': 1, 'kernel': 'linear'}   \n",
       "1       linear         NaN              {'C': 10, 'kernel': 'linear'}   \n",
       "2       linear         NaN             {'C': 100, 'kernel': 'linear'}   \n",
       "3          rbf       0.001  {'C': 1, 'gamma': 0.001, 'kernel': 'rbf'}   \n",
       "4          rbf       0.005  {'C': 1, 'gamma': 0.005, 'kernel': 'rbf'}   \n",
       "\n",
       "   split0_test_score  split1_test_score  split2_test_score  split3_test_score  \\\n",
       "0             0.9875             0.9125             0.9375           0.962025   \n",
       "1             0.9875             0.9000             0.9375           0.949367   \n",
       "2             0.9875             0.9125             0.9375           0.962025   \n",
       "3             0.9500             0.8875             0.9250           0.898734   \n",
       "4             0.7250             0.8625             0.9000           0.911392   \n",
       "\n",
       "   split4_test_score  mean_test_score  std_test_score  rank_test_score  \n",
       "0           0.974684         0.954842        0.026853                1  \n",
       "1           0.962025         0.947278        0.028881                3  \n",
       "2           0.962025         0.952310        0.025422                2  \n",
       "3           0.898734         0.911994        0.022650                6  \n",
       "4           0.860759         0.851930        0.066554                9  "
      ]
     },
     "execution_count": 36,
     "metadata": {},
     "output_type": "execute_result"
    }
   ],
   "source": [
    "results = pd.DataFrame(search.cv_results_)\n",
    "results.head()"
   ]
  },
  {
   "cell_type": "code",
   "execution_count": 37,
   "metadata": {},
   "outputs": [
    {
     "data": {
      "text/html": [
       "<div>\n",
       "<style scoped>\n",
       "    .dataframe tbody tr th:only-of-type {\n",
       "        vertical-align: middle;\n",
       "    }\n",
       "\n",
       "    .dataframe tbody tr th {\n",
       "        vertical-align: top;\n",
       "    }\n",
       "\n",
       "    .dataframe thead th {\n",
       "        text-align: right;\n",
       "    }\n",
       "</style>\n",
       "<table border=\"1\" class=\"dataframe\">\n",
       "  <thead>\n",
       "    <tr style=\"text-align: right;\">\n",
       "      <th></th>\n",
       "      <th>param_C</th>\n",
       "      <th>param_kernel</th>\n",
       "      <th>param_gamma</th>\n",
       "      <th>mean_test_score</th>\n",
       "      <th>std_test_score</th>\n",
       "    </tr>\n",
       "  </thead>\n",
       "  <tbody>\n",
       "    <tr>\n",
       "      <th>0</th>\n",
       "      <td>1</td>\n",
       "      <td>linear</td>\n",
       "      <td>NaN</td>\n",
       "      <td>0.954842</td>\n",
       "      <td>0.026853</td>\n",
       "    </tr>\n",
       "    <tr>\n",
       "      <th>1</th>\n",
       "      <td>100</td>\n",
       "      <td>linear</td>\n",
       "      <td>NaN</td>\n",
       "      <td>0.952310</td>\n",
       "      <td>0.025422</td>\n",
       "    </tr>\n",
       "    <tr>\n",
       "      <th>2</th>\n",
       "      <td>10</td>\n",
       "      <td>linear</td>\n",
       "      <td>NaN</td>\n",
       "      <td>0.947278</td>\n",
       "      <td>0.028881</td>\n",
       "    </tr>\n",
       "    <tr>\n",
       "      <th>3</th>\n",
       "      <td>10</td>\n",
       "      <td>rbf</td>\n",
       "      <td>0.001</td>\n",
       "      <td>0.917152</td>\n",
       "      <td>0.025564</td>\n",
       "    </tr>\n",
       "    <tr>\n",
       "      <th>4</th>\n",
       "      <td>100</td>\n",
       "      <td>rbf</td>\n",
       "      <td>0.001</td>\n",
       "      <td>0.917152</td>\n",
       "      <td>0.025564</td>\n",
       "    </tr>\n",
       "    <tr>\n",
       "      <th>5</th>\n",
       "      <td>1</td>\n",
       "      <td>rbf</td>\n",
       "      <td>0.001</td>\n",
       "      <td>0.911994</td>\n",
       "      <td>0.022650</td>\n",
       "    </tr>\n",
       "    <tr>\n",
       "      <th>6</th>\n",
       "      <td>10</td>\n",
       "      <td>rbf</td>\n",
       "      <td>0.005</td>\n",
       "      <td>0.896930</td>\n",
       "      <td>0.033253</td>\n",
       "    </tr>\n",
       "    <tr>\n",
       "      <th>7</th>\n",
       "      <td>100</td>\n",
       "      <td>rbf</td>\n",
       "      <td>0.005</td>\n",
       "      <td>0.896930</td>\n",
       "      <td>0.033253</td>\n",
       "    </tr>\n",
       "    <tr>\n",
       "      <th>8</th>\n",
       "      <td>1</td>\n",
       "      <td>rbf</td>\n",
       "      <td>0.005</td>\n",
       "      <td>0.851930</td>\n",
       "      <td>0.066554</td>\n",
       "    </tr>\n",
       "  </tbody>\n",
       "</table>\n",
       "</div>"
      ],
      "text/plain": [
       "  param_C param_kernel param_gamma  mean_test_score  std_test_score\n",
       "0       1       linear         NaN         0.954842        0.026853\n",
       "1     100       linear         NaN         0.952310        0.025422\n",
       "2      10       linear         NaN         0.947278        0.028881\n",
       "3      10          rbf       0.001         0.917152        0.025564\n",
       "4     100          rbf       0.001         0.917152        0.025564\n",
       "5       1          rbf       0.001         0.911994        0.022650\n",
       "6      10          rbf       0.005         0.896930        0.033253\n",
       "7     100          rbf       0.005         0.896930        0.033253\n",
       "8       1          rbf       0.005         0.851930        0.066554"
      ]
     },
     "execution_count": 37,
     "metadata": {},
     "output_type": "execute_result"
    }
   ],
   "source": [
    "results.sort_values(by = 'mean_test_score', ascending = False, inplace = True)\n",
    "results.reset_index(drop=True, inplace=True)\n",
    "\n",
    "results.loc[:, ['param_C', 'param_kernel', 'param_gamma', 'mean_test_score', 'std_test_score']]"
   ]
  },
  {
   "cell_type": "code",
   "execution_count": null,
   "metadata": {},
   "outputs": [],
   "source": []
  },
  {
   "cell_type": "markdown",
   "metadata": {},
   "source": [
    "### 4.33 Random Search with Scikit-learn"
   ]
  },
  {
   "cell_type": "code",
   "execution_count": 50,
   "metadata": {},
   "outputs": [
    {
     "data": {
      "text/plain": [
       "17"
      ]
     },
     "execution_count": 50,
     "metadata": {},
     "output_type": "execute_result"
    }
   ],
   "source": [
    "stats.randint.rvs(10,20)"
   ]
  },
  {
   "cell_type": "code",
   "execution_count": 51,
   "metadata": {},
   "outputs": [
    {
     "data": {
      "text/plain": [
       "0.3105657126035112"
      ]
     },
     "execution_count": 51,
     "metadata": {},
     "output_type": "execute_result"
    }
   ],
   "source": [
    "stats.uniform.rvs(0,1)"
   ]
  },
  {
   "cell_type": "code",
   "execution_count": 56,
   "metadata": {},
   "outputs": [],
   "source": [
    "# model\n",
    "gbm = GradientBoostingClassifier()\n",
    "\n",
    "# parameter space to sample\n",
    "param_grid = dict(n_estimators = stats.randint(10, 200)\n",
    "                 ,min_samples_split = stats.uniform(0,1)\n",
    "                 ,max_depth = stats.randint(1,5)\n",
    "                 ,loss = ('deviance', 'exponential'))"
   ]
  },
  {
   "cell_type": "code",
   "execution_count": 57,
   "metadata": {},
   "outputs": [
    {
     "data": {
      "text/plain": [
       "RandomizedSearchCV(cv=5, estimator=GradientBoostingClassifier(), n_iter=60,\n",
       "                   n_jobs=4,\n",
       "                   param_distributions={'loss': ('deviance', 'exponential'),\n",
       "                                        'max_depth': <scipy.stats._distn_infrastructure.rv_frozen object at 0x0000018DE812F220>,\n",
       "                                        'min_samples_split': <scipy.stats._distn_infrastructure.rv_frozen object at 0x0000018DE8084D60>,\n",
       "                                        'n_estimators': <scipy.stats._distn_infrastructure.rv_frozen object at 0x0000018DE81256D0>},\n",
       "                   scoring='roc_auc')"
      ]
     },
     "execution_count": 57,
     "metadata": {},
     "output_type": "execute_result"
    }
   ],
   "source": [
    "search = RandomizedSearchCV(gbm\n",
    "                           ,param_grid\n",
    "                           ,scoring = 'roc_auc'\n",
    "                           ,cv = 5\n",
    "                           ,n_iter = 60  # 60 random HP samples\n",
    "                           ,n_jobs = 4\n",
    "                           ,refit = True)\n",
    "\n",
    "search.fit(X_train, y_train)"
   ]
  },
  {
   "cell_type": "code",
   "execution_count": 58,
   "metadata": {},
   "outputs": [
    {
     "data": {
      "text/html": [
       "<div>\n",
       "<style scoped>\n",
       "    .dataframe tbody tr th:only-of-type {\n",
       "        vertical-align: middle;\n",
       "    }\n",
       "\n",
       "    .dataframe tbody tr th {\n",
       "        vertical-align: top;\n",
       "    }\n",
       "\n",
       "    .dataframe thead th {\n",
       "        text-align: right;\n",
       "    }\n",
       "</style>\n",
       "<table border=\"1\" class=\"dataframe\">\n",
       "  <thead>\n",
       "    <tr style=\"text-align: right;\">\n",
       "      <th></th>\n",
       "      <th>param_max_depth</th>\n",
       "      <th>param_min_samples_split</th>\n",
       "      <th>param_n_estimators</th>\n",
       "      <th>mean_test_score</th>\n",
       "      <th>std_test_score</th>\n",
       "    </tr>\n",
       "  </thead>\n",
       "  <tbody>\n",
       "    <tr>\n",
       "      <th>0</th>\n",
       "      <td>3</td>\n",
       "      <td>0.591139</td>\n",
       "      <td>116</td>\n",
       "      <td>0.994651</td>\n",
       "      <td>0.005569</td>\n",
       "    </tr>\n",
       "    <tr>\n",
       "      <th>1</th>\n",
       "      <td>4</td>\n",
       "      <td>0.55258</td>\n",
       "      <td>167</td>\n",
       "      <td>0.993710</td>\n",
       "      <td>0.006512</td>\n",
       "    </tr>\n",
       "    <tr>\n",
       "      <th>2</th>\n",
       "      <td>3</td>\n",
       "      <td>0.728645</td>\n",
       "      <td>176</td>\n",
       "      <td>0.993448</td>\n",
       "      <td>0.007376</td>\n",
       "    </tr>\n",
       "    <tr>\n",
       "      <th>3</th>\n",
       "      <td>2</td>\n",
       "      <td>0.527212</td>\n",
       "      <td>112</td>\n",
       "      <td>0.993294</td>\n",
       "      <td>0.005427</td>\n",
       "    </tr>\n",
       "    <tr>\n",
       "      <th>4</th>\n",
       "      <td>4</td>\n",
       "      <td>0.84293</td>\n",
       "      <td>182</td>\n",
       "      <td>0.993184</td>\n",
       "      <td>0.007727</td>\n",
       "    </tr>\n",
       "  </tbody>\n",
       "</table>\n",
       "</div>"
      ],
      "text/plain": [
       "  param_max_depth param_min_samples_split param_n_estimators  mean_test_score  \\\n",
       "0               3                0.591139                116         0.994651   \n",
       "1               4                 0.55258                167         0.993710   \n",
       "2               3                0.728645                176         0.993448   \n",
       "3               2                0.527212                112         0.993294   \n",
       "4               4                 0.84293                182         0.993184   \n",
       "\n",
       "   std_test_score  \n",
       "0        0.005569  \n",
       "1        0.006512  \n",
       "2        0.007376  \n",
       "3        0.005427  \n",
       "4        0.007727  "
      ]
     },
     "execution_count": 58,
     "metadata": {},
     "output_type": "execute_result"
    }
   ],
   "source": [
    "results = pd.DataFrame(search.cv_results_)\n",
    "\n",
    "results.sort_values(by = 'mean_test_score', ascending = False, inplace = True)\n",
    "results.reset_index(drop=True, inplace=True)\n",
    "\n",
    "results.loc[:, ['param_max_depth', 'param_min_samples_split', 'param_n_estimators', \n",
    "                'mean_test_score', 'std_test_score']].head()"
   ]
  },
  {
   "cell_type": "code",
   "execution_count": null,
   "metadata": {},
   "outputs": [],
   "source": []
  },
  {
   "cell_type": "markdown",
   "metadata": {},
   "source": [
    "### 4.34 Random Search with scikit-optimize"
   ]
  },
  {
   "cell_type": "code",
   "execution_count": 59,
   "metadata": {
    "collapsed": true
   },
   "outputs": [
    {
     "ename": "ModuleNotFoundError",
     "evalue": "No module named 'skopt'",
     "output_type": "error",
     "traceback": [
      "\u001b[1;31m---------------------------------------------------------------------------\u001b[0m",
      "\u001b[1;31mModuleNotFoundError\u001b[0m                       Traceback (most recent call last)",
      "\u001b[1;32m<ipython-input-59-029a627df29a>\u001b[0m in \u001b[0;36m<module>\u001b[1;34m\u001b[0m\n\u001b[1;32m----> 1\u001b[1;33m \u001b[1;32mfrom\u001b[0m \u001b[0mskopt\u001b[0m \u001b[1;32mimport\u001b[0m \u001b[0mdummy_minimize\u001b[0m\u001b[1;33m\u001b[0m\u001b[1;33m\u001b[0m\u001b[0m\n\u001b[0m\u001b[0;32m      2\u001b[0m \u001b[1;32mfrom\u001b[0m \u001b[0mskopt\u001b[0m\u001b[1;33m.\u001b[0m\u001b[0mplots\u001b[0m \u001b[1;32mimport\u001b[0m \u001b[0mplot_convergence\u001b[0m\u001b[1;33m\u001b[0m\u001b[1;33m\u001b[0m\u001b[0m\n\u001b[0;32m      3\u001b[0m \u001b[1;32mfrom\u001b[0m \u001b[0mskopt\u001b[0m\u001b[1;33m.\u001b[0m\u001b[0mspace\u001b[0m \u001b[1;32mimport\u001b[0m \u001b[0mReal\u001b[0m\u001b[1;33m,\u001b[0m \u001b[0mInteger\u001b[0m\u001b[1;33m,\u001b[0m \u001b[0mCategorical\u001b[0m\u001b[1;33m\u001b[0m\u001b[1;33m\u001b[0m\u001b[0m\n\u001b[0;32m      4\u001b[0m \u001b[1;32mfrom\u001b[0m \u001b[0mskopt\u001b[0m\u001b[1;33m.\u001b[0m\u001b[0mutils\u001b[0m \u001b[1;32mimport\u001b[0m \u001b[0muse_named_args\u001b[0m\u001b[1;33m\u001b[0m\u001b[1;33m\u001b[0m\u001b[0m\n",
      "\u001b[1;31mModuleNotFoundError\u001b[0m: No module named 'skopt'"
     ]
    }
   ],
   "source": [
    "from skopt import dummy_minimize\n",
    "from skopt.plots import plot_convergence\n",
    "from skopt.space import Real, Integer, Categorical\n",
    "from skopt.utils import use_named_args"
   ]
  },
  {
   "cell_type": "code",
   "execution_count": null,
   "metadata": {},
   "outputs": [],
   "source": [
    "# setting up the parameter grid\n",
    "    # have to use the Real, Integer, and Categorical function from scikit-optimize to sample from the HP space\n",
    "param_grid = [\n",
    "    Integer(10, 200, name = 'n_estimators'),\n",
    "    Real(0, 0.999, name = 'min_samples_split'),\n",
    "    Integer(1, 5, name = 'max_depth'),\n",
    "    Categorical(['deviance', 'exponential'], name = 'loss')\n",
    "]\n",
    "\n",
    "# objective function\n",
    "    # unlike scikit-learn, we have to specify our own objective function\n",
    "    # scikit-optimize minimizes so we want the negative accuracy\n",
    "@use_named_args(param_grid)\n",
    "def objective(**params):\n",
    "    # model with new HPs\n",
    "    gbm.set_params(**params)\n",
    "    \n",
    "    # optimization function\n",
    "    value = np.mean(cross_val_score(gbm\n",
    "                                   ,X_train\n",
    "                                   ,y_train\n",
    "                                   ,cv=5))\n",
    "    \n",
    "    return -value"
   ]
  },
  {
   "cell_type": "code",
   "execution_count": null,
   "metadata": {},
   "outputs": [],
   "source": [
    "search = dummy_minimize(objective      # objective function to minimize\n",
    "                       ,param_grid     # HP space\n",
    "                       ,n_calls = 50)  # subsequent evaluations of "
   ]
  },
  {
   "cell_type": "code",
   "execution_count": null,
   "metadata": {},
   "outputs": [],
   "source": []
  },
  {
   "cell_type": "markdown",
   "metadata": {},
   "source": [
    "### 4.35 Random Search with Hyperopt"
   ]
  },
  {
   "cell_type": "code",
   "execution_count": 61,
   "metadata": {
    "collapsed": true
   },
   "outputs": [
    {
     "ename": "ModuleNotFoundError",
     "evalue": "No module named 'xgboost'",
     "output_type": "error",
     "traceback": [
      "\u001b[1;31m---------------------------------------------------------------------------\u001b[0m",
      "\u001b[1;31mModuleNotFoundError\u001b[0m                       Traceback (most recent call last)",
      "\u001b[1;32m<ipython-input-61-5943d1bfe3f1>\u001b[0m in \u001b[0;36m<module>\u001b[1;34m\u001b[0m\n\u001b[1;32m----> 1\u001b[1;33m \u001b[1;32mimport\u001b[0m \u001b[0mxgboost\u001b[0m \u001b[1;32mas\u001b[0m \u001b[0mxgb\u001b[0m\u001b[1;33m\u001b[0m\u001b[1;33m\u001b[0m\u001b[0m\n\u001b[0m",
      "\u001b[1;31mModuleNotFoundError\u001b[0m: No module named 'xgboost'"
     ]
    }
   ],
   "source": [
    "import xgboost as xgb\n",
    "from hyperopt import hp, rand, fmin, Trials"
   ]
  },
  {
   "cell_type": "code",
   "execution_count": null,
   "metadata": {},
   "outputs": [],
   "source": [
    "# define a HP space using many of the parameters from the xgboost algorithm\n",
    "\n",
    "param_grid = {'n_estimators': hp.quniform('n_estimators', 200, 2500, 100)\n",
    "             ,'max_depth': hp.uniform('max_depth', 1, 10)\n",
    "             ,'learning_rate': hp.uniform('learning_rate', 0.01, 0.99)\n",
    "             ,'booster': hp.choice('booster', ['gbtree', 'dart'])\n",
    "             ,'gamma': hp.quniform('gamma', 0.01, 10, 0.1)\n",
    "             ,'subsample': hp.uniform('subsample', 0.5, 0.9)\n",
    "             ,'colsample_bytree': hp.uniform('colsample_bytree', 0.5, 0.9)\n",
    "             ,'colsample_bylevel': hp.uniform('colsample_bylevel', 0.5, 0.9)\n",
    "             ,'colsample_bynode': hp.uniform('colsample_bynode', 0.5, 0.9)\n",
    "             ,'reg_lambda': hp.uniform('reg_lambda', 1, 20)}"
   ]
  },
  {
   "cell_type": "code",
   "execution_count": null,
   "metadata": {},
   "outputs": [],
   "source": [
    "# objective function\n",
    "\n",
    "def objective(params):\n",
    "    \n",
    "    # create a dictionary to identify the data type of each parameter value\n",
    "        # some parameters need to be integers in the XGBClasssifier\n",
    "    params_dict = {'n_estimators': int(params['n_estimators'])\n",
    "                  ,'max_depth': int(params['max_depth'])\n",
    "                  ,'learning_rate': params['learning_rate']\n",
    "                  ,'booster': params['booster']\n",
    "                  ,'gamma': params['gamma']\n",
    "                  ,'subsample': params['subsample']\n",
    "                  ,'colsample_bytree': params['colsample_bytree']\n",
    "                  ,'colsample_bylevel': params['colsample_bylevel']\n",
    "                  ,'colsample_bynode': params['colsample_bynode']\n",
    "                  ,'reg_lambda': params['reg_lambda']\n",
    "                  ,'random_state': 1000}\n",
    "    \n",
    "    # sent HPs to the classifier\n",
    "    gbm = xgb.XGBClassifier(**params_dict)\n",
    "    \n",
    "    # train with CV - get the mean of the k-fold score\n",
    "    score = cross_val_score(gbm\n",
    "                           ,X_train\n",
    "                           ,y_train,\n",
    "                           ,scoring = 'accuracy'\n",
    "                           ,cv=5).mean()\n",
    "    \n",
    "    return -score"
   ]
  },
  {
   "cell_type": "code",
   "execution_count": null,
   "metadata": {},
   "outputs": [],
   "source": [
    "# fmin function to optimize the HPs based on the objective function\n",
    "search = fmin(fn = objective\n",
    "             ,space = param_grid\n",
    "             ,max_evals = 50\n",
    "             ,rstate = np.random.RandomState(42)\n",
    "             ,algo = rand.suggest)  # randomized search "
   ]
  },
  {
   "cell_type": "code",
   "execution_count": null,
   "metadata": {},
   "outputs": [],
   "source": [
    "search"
   ]
  },
  {
   "cell_type": "code",
   "execution_count": null,
   "metadata": {},
   "outputs": [],
   "source": [
    "# create a dictionary for the final model\n",
    "\n",
    "best_hp_dict = {'n_estimators': int(search['n_estimators'])\n",
    "                  ,'max_depth': int(search['max_depth'])\n",
    "                  ,'learning_rate': search['learning_rate']\n",
    "                  ,'booster': search['booster']\n",
    "                  ,'gamma': search['gamma']\n",
    "                  ,'subsample': search['subsample']\n",
    "                  ,'colsample_bytree': search['colsample_bytree']\n",
    "                  ,'colsample_bylevel': search['colsample_bylevel']\n",
    "                  ,'colsample_bynode': search['colsample_bynode']\n",
    "                  ,'reg_lambda': search['reg_lambda']\n",
    "                  ,'random_state': 1000}"
   ]
  },
  {
   "cell_type": "code",
   "execution_count": null,
   "metadata": {},
   "outputs": [],
   "source": [
    "gbm_final = xgb.XGBClassifier()\n",
    "\n",
    "X_train_preds = gbm_final.predict(X_train)\n",
    "X_test_preds = gbm_final.predict(X_test)\n",
    "\n",
    "accuracy_score(y_train, X_train_preds), accuracy_score(y_test, X_test_preds)"
   ]
  },
  {
   "cell_type": "markdown",
   "metadata": {},
   "source": [
    "##### Using the Trials() function to store information about the optimization"
   ]
  },
  {
   "cell_type": "code",
   "execution_count": null,
   "metadata": {},
   "outputs": [],
   "source": [
    "trials = Trials()\n",
    "second_search = fmin(fn = objective\n",
    "                     ,space = param_grid\n",
    "                     ,max_evals = 50\n",
    "                     ,rstate = np.random.RandomState(42)\n",
    "                     ,algo = rand.suggest  # randomized search \n",
    "                     ,trials = trials)"
   ]
  },
  {
   "cell_type": "code",
   "execution_count": null,
   "metadata": {},
   "outputs": [],
   "source": [
    "# best hyperparameter values\n",
    "second_search\n",
    "trials.argmin"
   ]
  },
  {
   "cell_type": "code",
   "execution_count": null,
   "metadata": {},
   "outputs": [],
   "source": [
    "pd.DataFrame(trials.vals).head()\n",
    "pd.DataFrame(trials.results).head()"
   ]
  },
  {
   "cell_type": "code",
   "execution_count": null,
   "metadata": {},
   "outputs": [],
   "source": []
  }
 ],
 "metadata": {
  "kernelspec": {
   "display_name": "Python 3",
   "language": "python",
   "name": "python3"
  },
  "language_info": {
   "codemirror_mode": {
    "name": "ipython",
    "version": 3
   },
   "file_extension": ".py",
   "mimetype": "text/x-python",
   "name": "python",
   "nbconvert_exporter": "python",
   "pygments_lexer": "ipython3",
   "version": "3.8.5"
  }
 },
 "nbformat": 4,
 "nbformat_minor": 4
}

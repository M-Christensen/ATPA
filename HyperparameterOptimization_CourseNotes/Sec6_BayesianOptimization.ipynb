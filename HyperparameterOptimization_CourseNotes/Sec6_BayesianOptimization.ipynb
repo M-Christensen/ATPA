{
 "cells": [
  {
   "cell_type": "markdown",
   "metadata": {},
   "source": [
    "### 6.48 Scikit-Optimize 1-Dimension"
   ]
  },
  {
   "cell_type": "markdown",
   "metadata": {},
   "source": [
    "https://scikit-optimize.github.io/stable/"
   ]
  },
  {
   "cell_type": "code",
   "execution_count": 7,
   "metadata": {},
   "outputs": [],
   "source": [
    "import numpy as np\n",
    "import pandas as pd\n",
    "import matplotlib.pyplot as plt\n",
    "\n",
    "from sklearn.datasets import load_breast_cancer\n",
    "from sklearn.ensemble import GradientBoostingClassifier\n",
    "from sklearn.model_selection import (cross_val_score\n",
    "                                    ,train_test_split\n",
    "                                    ,GridSearchCV)\n",
    "\n",
    "from skopt import gp_minimize\n",
    "from skopt.plots import plot_convergence, plot_gaussian_process\n",
    "from skopt.space import Integer\n",
    "from skopt.utils import use_named_args"
   ]
  },
  {
   "cell_type": "code",
   "execution_count": null,
   "metadata": {},
   "outputs": [],
   "source": []
  }
 ],
 "metadata": {
  "kernelspec": {
   "display_name": "HyperparameterOptimization_CourseNotes",
   "language": "python",
   "name": "python3"
  },
  "language_info": {
   "codemirror_mode": {
    "name": "ipython",
    "version": 3
   },
   "file_extension": ".py",
   "mimetype": "text/x-python",
   "name": "python",
   "nbconvert_exporter": "python",
   "pygments_lexer": "ipython3",
   "version": "3.9.6"
  },
  "vscode": {
   "interpreter": {
    "hash": "312af9e485c82c2e2179c1f011adeed08a7a9dfc884b6a03db51dfde2b896117"
   }
  }
 },
 "nbformat": 4,
 "nbformat_minor": 4
}
